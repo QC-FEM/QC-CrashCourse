{
 "cells": [
  {
   "cell_type": "code",
   "execution_count": 8,
   "metadata": {},
   "outputs": [],
   "source": [
    "import numpy as np\n",
    "from qiskit import QuantumCircuit\n",
    "from qiskit import Aer, execute\n",
    "from qiskit.visualization import plot_bloch_multivector\n",
    "backend = Aer.get_backend('statevector_simulator')"
   ]
  },
  {
   "cell_type": "code",
   "execution_count": 9,
   "metadata": {},
   "outputs": [],
   "source": [
    "## Parametros de la red de copiado\n",
    "theta1 = np.arccos(1.0/np.sqrt(5))\n",
    "theta2 = np.arccos(np.sqrt(5)/3)\n",
    "theta3 = np.arccos(2/np.sqrt(5))"
   ]
  },
  {
   "cell_type": "code",
   "execution_count": 21,
   "metadata": {},
   "outputs": [
    {
     "data": {
      "image/png": "[encoded data removed]",
      "text/plain": [
       "<Figure size 387.452x144.48 with 1 Axes>"
      ]
     },
     "execution_count": 21,
     "metadata": {},
     "output_type": "execute_result"
    }
   ],
   "source": [
    "## Demostracion de la fase de preparacion\n",
    "prep = QuantumCircuit(2)\n",
    "## Aplicamos rotacion theta1\n",
    "prep.ry(theta1,0)\n",
    "## Aplicamos CNOT\n",
    "prep.cx(0,1)\n",
    "## Aplicamos rotacion theta2\n",
    "prep.ry(theta2,1)\n",
    "## Aplicamos CNOT\n",
    "prep.cx(1,0)\n",
    "## Aplicamos rotacion theta3\n",
    "prep.ry(theta3,0)\n",
    "## Dibujamos el circuito\n",
    "prep.draw(output='mpl')"
   ]
  },
  {
   "cell_type": "code",
   "execution_count": 20,
   "metadata": {},
   "outputs": [
    {
     "name": "stdout",
     "output_type": "stream",
     "text": [
      "[0.81649658+0.j 0.        +0.j 0.40824829+0.j 0.40824829+0.j]\n"
     ]
    }
   ],
   "source": [
    "## Simulamos el estado final\n",
    "PHI = execute(prep,backend).result().get_statevector()\n",
    "## Imprimimos el resultado final\n",
    "print(PHI)"
   ]
  },
  {
   "cell_type": "code",
   "execution_count": 28,
   "metadata": {},
   "outputs": [],
   "source": [
    "paso_prep = prep.to_gate()\n",
    "paso_prep.name = 'preparacion'"
   ]
  },
  {
   "cell_type": "code",
   "execution_count": 56,
   "metadata": {},
   "outputs": [],
   "source": [
    "## Circuito de copiado\n",
    "MaquinaCopiado = QuantumCircuit(3,1)"
   ]
  },
  {
   "cell_type": "code",
   "execution_count": 57,
   "metadata": {},
   "outputs": [
    {
     "data": {
      "text/plain": [
       "<qiskit.circuit.instructionset.InstructionSet at 0x7f87fa99b340>"
      ]
     },
     "execution_count": 57,
     "metadata": {},
     "output_type": "execute_result"
    }
   ],
   "source": [
    "## Cagamos un estado inicial arbitrario\n",
    "theta = np.pi/3.5\n",
    "phi = np.pi/2.7\n",
    "estado_a_copiar = np.array([\n",
    "    np.cos(theta),\n",
    "    np.exp(1j*np.pi)*np.sin(theta)\n",
    "])\n",
    "MaquinaCopiado.initialize(estado_a_copiar,0)"
   ]
  },
  {
   "cell_type": "code",
   "execution_count": 58,
   "metadata": {},
   "outputs": [
    {
     "data": {
      "text/plain": [
       "<qiskit.circuit.instructionset.InstructionSet at 0x7f87fbb068e0>"
      ]
     },
     "execution_count": 58,
     "metadata": {},
     "output_type": "execute_result"
    }
   ],
   "source": [
    "## Incluimos la fase de preparacion\n",
    "MaquinaCopiado.append(paso_prep,[1,2])\n",
    "## Colocamos una barrera por claridad\n",
    "MaquinaCopiado.barrier()"
   ]
  },
  {
   "cell_type": "code",
   "execution_count": 59,
   "metadata": {},
   "outputs": [
    {
     "data": {
      "text/plain": [
       "<qiskit.circuit.instructionset.InstructionSet at 0x7f87fbb79400>"
      ]
     },
     "execution_count": 59,
     "metadata": {},
     "output_type": "execute_result"
    }
   ],
   "source": [
    "## Incluimos la fase de copiado\n",
    "MaquinaCopiado.cx(0,1)\n",
    "MaquinaCopiado.cx(0,2)\n",
    "MaquinaCopiado.cx(1,0)\n",
    "MaquinaCopiado.cx(2,0)"
   ]
  },
  {
   "cell_type": "code",
   "execution_count": 60,
   "metadata": {},
   "outputs": [
    {
     "data": {
      "image/png": "[encoded data removed]",
      "text/plain": [
       "<Figure size 568.197x264.88 with 1 Axes>"
      ]
     },
     "execution_count": 60,
     "metadata": {},
     "output_type": "execute_result"
    }
   ],
   "source": [
    "## Dibujamos circuito\n",
    "MaquinaCopiado.draw(output='mpl')"
   ]
  },
  {
   "cell_type": "code",
   "execution_count": 61,
   "metadata": {},
   "outputs": [],
   "source": [
    "from qiskit.aqua.utils import get_subsystem_density_matrix"
   ]
  },
  {
   "cell_type": "code",
   "execution_count": 62,
   "metadata": {},
   "outputs": [
    {
     "name": "stdout",
     "output_type": "stream",
     "text": [
      "[[ 0.42582636+0.00000000e+00j -0.32497597-3.97980782e-17j]\n",
      " [-0.32497597+3.97980782e-17j  0.57417364+0.00000000e+00j]]\n"
     ]
    }
   ],
   "source": [
    "## Ejecutamos y simulamos el circuito\n",
    "estado_final_registro = execute(MaquinaCopiado,backend).result().get_statevector()\n",
    "## Imprimimos matriz densidad reducida primer qubit\n",
    "rho0 = get_subsystem_density_matrix(estado_final_registro,[1,2])\n",
    "print(rho0)"
   ]
  },
  {
   "cell_type": "code",
   "execution_count": 63,
   "metadata": {},
   "outputs": [
    {
     "name": "stdout",
     "output_type": "stream",
     "text": [
      "[[ 0.42582636+0.00000000e+00j -0.32497597-3.97980782e-17j]\n",
      " [-0.32497597+3.97980782e-17j  0.57417364+0.00000000e+00j]]\n"
     ]
    }
   ],
   "source": [
    "## Imprimimos matriz densidad reducida segundo qubit\n",
    "rho0 = get_subsystem_density_matrix(estado_final_registro,[0,2])\n",
    "print(rho0)"
   ]
  }
 ],
 "metadata": {
  "kernelspec": {
   "display_name": "Python 3",
   "language": "python",
   "name": "python3"
  },
  "language_info": {
   "codemirror_mode": {
    "name": "ipython",
    "version": 3
   },
   "file_extension": ".py",
   "mimetype": "text/x-python",
   "name": "python",
   "nbconvert_exporter": "python",
   "pygments_lexer": "ipython3",
   "version": "3.8.5"
  }
 },
 "nbformat": 4,
 "nbformat_minor": 5
}
