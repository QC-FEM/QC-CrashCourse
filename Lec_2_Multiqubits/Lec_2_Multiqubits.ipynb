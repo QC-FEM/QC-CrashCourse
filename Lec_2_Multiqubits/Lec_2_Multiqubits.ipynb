{
 "cells": [
  {
   "cell_type": "markdown",
   "id": "99beb792",
   "metadata": {},
   "source": [
    "# Lección 2.3: Sistemas de varios qubits\n",
    "\n",
    "En esta lección consideraremos sistemas de 2 o más qubits. Introduciremos el formalismo del operador densidad para describir el estado de un qubit particular de un registro cuántico cuando este último se encuentra en un estado entrelazado. Aprenderemos a generar entrelazamiento por medio de la compuerta CNOT. Posteriormente, introduciremos el famoso teorema de no clonación, y sus implicaciones para la computación. Finalmente, veremos un ejemplo práctico sobre el uso de estados entrelazados y el formalismo de la matriz densidad para construir un **duplicador universal**, siguiendo el trabajo de Buzek y Hillery.\n",
    "\n",
    "**SUPER IMPORTANTE:** En este ejemplo intentaremos presentar al lector el formalismo necesario para estudiar la computación cuántica en forma teórica, así como una posible intuición física sobre la misma. Esta sesióne stá disponible en nuestro servidor de MyBinder.\n",
    "\n",
    "<p align=\"center\">\n",
    "  <a href=\"https://mybinder.org/v2/gh/QC-FEM/QC-CrashCourse/HEAD\">\n",
    "    <img src=\"https://mybinder.org/badge_logo.svg\">\n",
    "  </a>\n",
    "</p>"
   ]
  },
  {
   "cell_type": "code",
   "execution_count": 11,
   "id": "187b298a",
   "metadata": {},
   "outputs": [],
   "source": [
    "import numpy as np\n",
    "from qiskit import QuantumCircuit, QuantumRegister, ClassicalRegister\n",
    "from qiskit import Aer, BasicAer, execute\n",
    "from qiskit.visualization import plot_bloch_multivector, plot_histogram\n",
    "backend = Aer.get_backend('statevector_simulator')"
   ]
  },
  {
   "cell_type": "markdown",
   "id": "7faa1084",
   "metadata": {},
   "source": [
    "## Estados de varios qubits\n",
    "\n",
    "Como vimos en lecciones anteriores, podremos describir un sistema cuántico compuesto empleando el **producto tensorial o de Kroenecker**. Este nos permitirá definir una *base* para los estados de un sistema compuesto. Por ejemplo, un registro de $N$ qubits, puede descrbirse en términos de la *base computacional*\n",
    "\n",
    "$$|q_{N-1} \\ldots q_2q_1q_0\\rangle = |q_{N-1}\\rangle \\otimes \\ldots \\otimes |q_2\\rangle \\otimes |q_1\\rangle \\otimes |q_0\\rangle$$\n",
    "\n",
    "Donde $q_i = 0,1$. Es importante notar que la base computacional de un registro de $N$ qubits es numerable. De hecho, si interpretamos la secuencia de valores $q_i$ como una cadena binaria, esta no es más que la representación en sistema binario de un número entre $0$ y $2^{N}-1$. Por ejemplo, si consideramos un registro de 3 qubits, entonces podremos establecer las siguientes equivalencias\n",
    "\n",
    "$$|1\\rangle \\otimes |0\\rangle \\otimes |1\\rangle = |101\\rangle = |9\\rangle$$\n",
    "\n",
    "En lenguaje matricial, la base computacional corresponde a la base estándar de un espacio vectorial complejo de dimensión $2^{N}$. Siguiendo con el ejemplo anterior, es posible realizar la equivalencia\n",
    "\n",
    "$$|k\\rangle = \\begin{bmatrix}0 \\\\ \\vdots \\\\ 1 \\\\ \\vdots \\\\ 0\\end{bmatrix} \\rightarrow \\text{ en la }k\\text{-ésima posición}$$\n",
    "\n",
    "Para $0 \\leq k \\leq 2^{N}-1$. \n",
    "\n",
    ">El estado general de un registro cuántico de $N$ qubits puede representarse como una combinación lineal de los estados de la base computacional\n",
    ">\n",
    ">$$|\\psi\\rangle = \\sum_{k = 0}^{2^{N}-1}\\alpha_k |k\\rangle$$\n",
    "\n",
    "Los coeficientes de la expansión pueden tener una interpretación probabilística. En el caso de estados de un qubit, recordemos, estos presentaban información sobre la probabilidad de medir un valor de bit $0$ o $1$. Para un registro cuántico, estos dan información sobre la probabilidad de medir una cadena binaria particular, representable con $N$ bits. \n",
    "\n",
    ">Es decir, si se define $p(k|\\psi)$ como la probabilidad de medir una cadena binaria que representa el entero $k$, dado que el registro está en un estado cuántico $|\\psi\\rangle$, entonces\n",
    ">\n",
    ">$$p(k|\\psi) = |\\alpha_k|^2$$\n",
    "\n",
    "## Compuertas de varios qubits\n",
    "\n",
    "Al considerar la computación reversible vimos varias compuertas que actúan sobre 2 o 3 qubits. En su momento, presentamos la acción sobre cualquier cadena binaria particular. La generalización a la computación cuántica se produce por medio de la definición de operadores lineales que tienen el mismo efecto que las compuertas reversibles consideradas sobre la base computacional. Por ejemplo, consideremos la compuerta CNOT. EN computación cuántica, esta serñá representada por un *operador lineal*, que denotaremos con $CNOT$. Como vimos en su momento, esta compuerta se define por\n",
    "\n",
    "$$CNOT |00\\rangle = |00\\rangle$$\n",
    "\n",
    "$$CNOT |01\\rangle = |01\\rangle$$\n",
    "\n",
    "$$CNOT |10\\rangle = |11\\rangle$$\n",
    "\n",
    "$$CNOT |11\\rangle = |10\\rangle$$\n",
    "\n",
    "Donde asumimos que el bit menos significativo es el objetivo, y el más significativo, el de control. Podremos entonces representar la compuerta CNOT por medio de una matriz. Invitamos al lector a convencerse que esta es\n",
    "\n",
    "$$CNOT = \\begin{bmatrix}1 & 0 & 0 & 0 \\\\ 0 & 1 & 0 & 0 \\\\ 0 & 0 & 0 & 1 \\\\ 0 & 0 & 1 & 0\\end{bmatrix}$$\n",
    "\n",
    "Invitamos al lector a encontrar la representación matricial de la compuerta CNOT cuando el bit objetivo es el más significativo y el menos significativo, el de control. Para ello deberá considerar la acción de esta como un operador sobre la base computacional.\n",
    "\n",
    "## Estados independientes y estados entrelazados\n",
    "\n",
    "Consideremos un registro cuántico de 2 qubits, inicializado en el estado $|00\\rangle$. Vamos a realizar dos tipos de operaciones sobre este. En un primer lugar, vamos a aplicar una rotación de un qubit sobre cada qubit del registro. Estas corresponderán a las conocidas compuertas de Hadmard y Pauli X. Posteriormente, vamos a realizar una rotación de un qubit (compuerta Hadamard) sobre alguno de los qubits del registro; luego aplicaremos una compuerta CNOT utilizando el qubit rotado como control. Vamos a comparar ambas situaciones en términos de probabilidades condicionales. Definiremos la siguiente notación: diremos que $p(q_i = a)$ denota la probabilidad que $q_i$ tenga un valor de bit $a$; mientras que $p(q_i = a | q_j = b)$ denota la probabilidad que $q_i$ tenga un valor de bit $a$, dado que fue medido que $q_j$ tiene un valor de bit $b$.\n",
    "\n",
    "### Circuito independiente\n",
    "\n",
    "Vamos a considerar la primera situación. Con qiskit vamos a encontrar la probabilidad de que el bit $q_1$ tenga valor 1, dado que se mide un valor particular de $q_0$. Vamos a definir el circuito base"
   ]
  },
  {
   "cell_type": "code",
   "execution_count": 35,
   "id": "690ade7a",
   "metadata": {},
   "outputs": [
    {
     "data": {
      "image/png": "[encoded data removed]",
      "text/plain": [
       "<Figure size 146.652x204.68 with 1 Axes>"
      ]
     },
     "execution_count": 35,
     "metadata": {},
     "output_type": "execute_result"
    }
   ],
   "source": [
    "## Creamos registro cuántico\n",
    "q = QuantumRegister(2,name='q')\n",
    "## Creamos registro de medición\n",
    "r = ClassicalRegister(2,name='r')\n",
    "QC_indep = QuantumCircuit(q,r)\n",
    "## Aplicamos Hadmard Sobre q0\n",
    "QC_indep.h(q[0])\n",
    "## Aplicamos X sobre q1\n",
    "QC_indep.x(q[1])\n",
    "## Dibujamos el circuito\n",
    "QC_indep.draw(output='mpl')"
   ]
  },
  {
   "cell_type": "markdown",
   "id": "f20c138e",
   "metadata": {},
   "source": [
    "Vamos a establecer $p(q_0 = 0)$. Para ello, vamos a simular el circuito, y guardar solo la medición del bit $q_0$"
   ]
  },
  {
   "cell_type": "code",
   "execution_count": 36,
   "id": "2295c1d3",
   "metadata": {},
   "outputs": [
    {
     "name": "stdout",
     "output_type": "stream",
     "text": [
      "{'01': 16468, '00': 16300}\n"
     ]
    }
   ],
   "source": [
    "qasm_sim = BasicAer.get_backend('qasm_simulator')\n",
    "QC_indep.measure(q[0],r[0])\n",
    "counts = execute(QC_indep,qasm_sim,shots=1<<15).result().get_counts()\n",
    "print(counts)"
   ]
  },
  {
   "cell_type": "markdown",
   "id": "b7cdd8b4",
   "metadata": {},
   "source": [
    "Notamos inmediatamente que $p(q_0 = 0) = 0.5$. Igualmente, $p(q_0 = 1) = 0$. En forma análoga, podemos determinar que $p(q_1 = 0) = 0$, $p(q_1 = 1) = 1$. Ahora podremos determinar las probabilidades $p(q_0 = a \\bigcap q_1 = b)$. Esto lo realizamos midiendo ambos valores de bit al tiempo"
   ]
  },
  {
   "cell_type": "code",
   "execution_count": 37,
   "id": "d30b1777",
   "metadata": {},
   "outputs": [
    {
     "name": "stdout",
     "output_type": "stream",
     "text": [
      "{'11': 16446, '10': 16322}\n"
     ]
    }
   ],
   "source": [
    "## Ejecutamos el circuito\n",
    "qasm_sim = BasicAer.get_backend('qasm_simulator')\n",
    "QC_indep.measure(q,r)\n",
    "counts = execute(QC_indep,qasm_sim,shots=1<<15).result().get_counts()\n",
    "print(counts)"
   ]
  },
  {
   "cell_type": "markdown",
   "id": "a9285d38",
   "metadata": {},
   "source": [
    "Con el simulador notamos que $p(q_0 = 0 \\bigcap q_1 = 1) = 0.5$ y $p(q_0 = 1 \\bigcap q_1 = 1) = 0.5$. Con estos datos, invitamos al lector a convencerse de que\n",
    "\n",
    "$$p(q_1 = 1 | q_0 = 0) = p(q_1 = 1 | q_0 = 1) = 1 = p(q_1 = 1)$$\n",
    "\n",
    "$$p(q_1 = 0 | q_0 = 0) = p(q_1 = 0 | q_0 = 1) = 0 = p(q_1 = 0)$$\n",
    "\n",
    "De igual forma si $q_0 = 1$. En esta situación observamos que no existe una correlación entre la medición del valor de bit de $q_0$, y aquella de $q_1$. Decimos que con este circuito hemos contruido un **estado separable o independiente**\n",
    "\n",
    "> En un estado separable, no hay una correlación entre los observables de un subsistema u otro. Cada qubit de un registro cuántico descrito por un estado separable está descrito por una distribución de probabilidad independiente de los otros. Matemáticamente, un estado separable está descrito por medio de un **producto de Kroenecker**\n",
    ">\n",
    "> $$|\\psi\\rangle = |\\psi_{N-1}\\rangle \\otimes \\cdots \\otimes |\\psi_{2}\\rangle \\otimes |\\psi_{1} \\rangle \\otimes |\\psi_{0}\\rangle$$\n",
    "\n",
    "### Circuito entrelazado\n",
    "\n",
    "Repetiremos el procedimiento anterior, pero esta vez utilizaremos una compuerta CNOT, en lugar de una compuerta X de Pauli. Definimos el circuito base"
   ]
  },
  {
   "cell_type": "code",
   "execution_count": 54,
   "id": "c8437d41",
   "metadata": {},
   "outputs": [
    {
     "data": {
      "image/png": "[encoded data removed]",
      "text/plain": [
       "<Figure size 206.852x204.68 with 1 Axes>"
      ]
     },
     "execution_count": 54,
     "metadata": {},
     "output_type": "execute_result"
    }
   ],
   "source": [
    "## Creamos registro cuántico\n",
    "q = QuantumRegister(2,name='q')\n",
    "## Creamos registro de medición\n",
    "r = ClassicalRegister(2,name='r')\n",
    "QC_ent = QuantumCircuit(q,r)\n",
    "## Aplicamos Hadmard Sobre q0\n",
    "QC_ent.h(q[0])\n",
    "## Aplicamos X sobre q1\n",
    "QC_ent.cx(*q)\n",
    "## Dibujamos el circuito\n",
    "QC_ent.draw(output='mpl')"
   ]
  },
  {
   "cell_type": "markdown",
   "id": "49fdf445",
   "metadata": {},
   "source": [
    "Al igual que antes, calcularemos $p(q_0 = 0)$ y $p(q_1 = 1)$. Para ello solo mediremos el valor de bit de $q_0$"
   ]
  },
  {
   "cell_type": "code",
   "execution_count": 51,
   "id": "14365011",
   "metadata": {},
   "outputs": [
    {
     "name": "stdout",
     "output_type": "stream",
     "text": [
      "{'00': 16349, '11': 16419}\n"
     ]
    }
   ],
   "source": [
    "qasm_sim = BasicAer.get_backend('qasm_simulator')\n",
    "QC_ent.measure(q[0],r[0])\n",
    "counts = execute(QC_ent,qasm_sim,shots=1<<15).result().get_counts()\n",
    "print(counts)"
   ]
  },
  {
   "cell_type": "markdown",
   "id": "bd8b932d",
   "metadata": {},
   "source": [
    "Igual que antes, identificamos que $p(q_0 = 0) = p(q_1 = 1) = 0.5$. De igual forma determinamos que $p(q_1 = 0) = p(q_1 = 1) = 0.5$. Ahora procedemos a calcular $p(q_0 = a \\bigcap q_1 = b)$, midiendo el bit de ambos qubits al tiempo."
   ]
  },
  {
   "cell_type": "code",
   "execution_count": 55,
   "id": "a7634ca4",
   "metadata": {},
   "outputs": [
    {
     "name": "stdout",
     "output_type": "stream",
     "text": [
      "{'00': 16455, '11': 16313}\n"
     ]
    }
   ],
   "source": [
    "## Ejecutamos el circuito\n",
    "qasm_sim = BasicAer.get_backend('qasm_simulator')\n",
    "QC_ent.measure(q,r)\n",
    "counts = execute(QC_ent,qasm_sim,shots=1<<15).result().get_counts()\n",
    "print(counts)"
   ]
  },
  {
   "cell_type": "markdown",
   "id": "c9d315b8",
   "metadata": {},
   "source": [
    "Notamos inmediatamente que $p(q_1 = 1 \\bigcap q_0 = 1) = p(q_1 = 0 \\bigcap q_0 = 0) = 0.5$. En consecuencia, podremos advertir que\n",
    "\n",
    "$$p(q_1 = 0 | q_0 = 0) = 1 \\neq p(q_1 = 0)$$\n",
    "\n",
    "$$p(q_1 = 1 | q_0 = 1) = 1 \\neq p(q_1 = 1)$$\n",
    "\n",
    "Es decir, existe una correlación entre las mediciones del valor de bit de ambos qubits. Notaremos que estas están **directamente correlacionadas**. Siempre que se mida un valor de bit en $q_0$, $q_1$ tendrá el mismo valor de bit. Esto no es un hecho extraño de la física clásica. De hecho, las interacciones entre sistemas, como aquella que es representada por la compuerta CNOT, tienden a construir correlaciones entre sistemas interactuantes. Sin embargo, sistemas cuánticos como el que acabamos de considerar en el circuito anterior tienen correlaciones mucho más altas que aquellas predichas por teorías basadas en los paradigmas de la física clásica. Esta propiedad, y otras que discutiremos en futuras lecciones, son una manifestación de una propiedad cuántica que denominaremos **entrelazamiento**\n",
    "\n",
    "> Un estado entrelazado es aquel en el cual el vector de estado del registro cuántico no puede expresarse como un producto de Kroenecker de vectores de estado de los componentes individuales. Esto es una manera de decir que existen correlaciones entre las distintas cantidades medibles asociadas a cada qubit del mismo, y que son producto de su naturaleza cuántica.\n",
    "\n",
    "### Descripción matemática\n",
    "\n",
    "Vamos ahora a analizar este simple ejemplo utilizando el formalismo matemático de la mecánica cuántica. Para ello, recordemos que podremos describir la acción de dos compuertas que actúan sobre un qubit por medio del producto de Kroenecker. Supongamos que tenemos compuertas $\\hat{U}_{N-1}$, $\\hat{U}_{N-2}$, $\\ldots$, $\\hat{U}_0$, actuando sobre los qubits un registro, que se encuentra en un estado de la base computacional $|q_{N-1}\\cdots q_0\\rangle$. Cada compuerta actúa sobre un qubit solamente. Diremos entonces que la acción de este conjunto de compeurtas sobre el estado del registro es\n",
    "\n",
    "$$(\\hat{U}_{N-1} \\otimes \\hat{U}_{N-2} \\otimes \\cdots \\otimes \\hat{U}_{1} \\otimes \\hat{U}_{0}) |q_{N-1}\\cdots q_0\\rangle = |\\psi_{N-1}\\rangle \\otimes |\\psi_{N-2}\\rangle \\otimes \\cdots \\otimes |\\psi_0\\rangle$$\n",
    "\n",
    "Donde realizamos la definición\n",
    "\n",
    "$$|\\psi_i\\rangle = \\hat{U}_{i}|q_i\\rangle$$\n",
    "\n",
    "#### Circuito independiente\n",
    "\n",
    "Utilizando la notación anterior, podremos ver que el estado del registro de 2 qubits después de ejecutar el circuito es\n",
    "\n",
    "$$|\\psi_f\\rangle = (\\hat{X} \\otimes \\hat{H})|00\\rangle$$\n",
    "\n",
    "Invitamos al lector a demostrar que este corresponde a\n",
    "\n",
    "$$|\\psi_f\\rangle = \\frac{1}{\\sqrt{2}}(|10\\rangle + |11\\rangle)$$\n",
    "\n",
    "Notaremos que este es fácilmente factorizable como\n",
    "\n",
    "$$|\\psi_f\\rangle = |1\\rangle \\otimes |+\\rangle$$\n",
    "\n",
    "Donde identificamos el estado $|+\\rangle$ que conocimos en lecciones anteriores. Más adelante, cuando discutamos el tratamiento de la medición en mecánica cuántica, notaremos que en este estado los observables asociados únicamente al qubit 0, no guardan una correlación con aquellos del qubit 1. Esto se expresa matemáticamente en el hecho que puede expresarse como un producto de Kroenecker.\n",
    "\n",
    "#### Circuito entrelazado\n",
    "\n",
    "Utilizando la notación anterior, podremos ver que el estado del sistema antes de aplicar la compuerta CNOT es un estado producto\n",
    "\n",
    "$$|\\psi \\rangle = |0\\rangle \\otimes |+\\rangle = \\frac{1}{\\sqrt{2}}(|00\\rangle + |01\\rangle)$$\n",
    "\n",
    "> La compuerta CNOT cuántica actúa como un operador lineal. Recordando que el control es el bit menos significativo, identificamos que el estado final del registro es\n",
    ">\n",
    "> $$|\\psi_f\\rangle = \\frac{1}{\\sqrt{2}}(|00\\rangle + |11\\rangle)$$\n",
    ">\n",
    "> Invitamos al lector a demostrar que este es un estado **entrelazado**\n",
    "\n",
    "La clave es la compuerta CNOT. Esta es fundamental para crear entrelazamiento en el estado de un registro. Existe una gran cantidad de compuertas de 2 qubits que pueden cumplir esta función. Sin embargo, CNOT tiene la propiedad de ser parte de un conjunto universal de compuertas para la computación cuántica. Ya que, en el momento de construcción de este curso, los dispositivos de IBM Q utilizan esta compuerta para transpilar algoritmos cuánticos digitales, no entraremos en detalles sobre las propiedades de otras compuertas entrelazantes, a menos que sea estrictamente necesario.\n",
    "\n",
    "## Teorema de no clonación\n",
    "\n",
    "Consideremos un problema sencillo pero fundamental de la computación: copiar el valor de una variable, en otra. En computación clásica reversible identificamos que la compuerta CNOT nos permite realizar esta tarea. De hecho, si trabajamos excvlusivamente con estados de la base computacional, obtenemos dos copias completamente independientes, que se encuentran en el mismo estado. Consideremos ahora la tarea de duplicar el estado de un qubit\n",
    "\n",
    "$$|\\psi\\rangle = \\alpha|0\\rangle + \\beta|1\\rangle$$\n",
    "\n",
    "En otro qubit, preparado en un estado de referencia $|Q\\rangle$. Supongamos que exista un circuito (representado como un operador unitario de 2 qubits $\\hat{U}$) que pueda actuar sobre la base computacional, de forma que\n",
    "\n",
    "$$\\hat{U}|0\\rangle \\otimes |Q\\rangle = |0\\rangle \\otimes |0\\rangle$$\n",
    "\n",
    "$$\\hat{U}|1\\rangle \\otimes |Q\\rangle = |1\\rangle \\otimes |1\\rangle$$\n",
    "\n",
    "Puesto que los operadores correspondientes a circuitos cuánticos **son lineales**, obtendremos que\n",
    "\n",
    "$$\\hat{U}|\\psi\\rangle \\otimes |Q\\rangle = \\alpha |0\\rangle \\otimes |0\\rangle + \\beta |1\\rangle \\otimes |1\\rangle$$\n",
    "\n",
    "Invitamos al lector a demostrar que este es un estado completamente distinto a aquel que representa a los dos qubits con el mismo vector de estado, pero independientes:\n",
    "\n",
    "$$|\\psi\\rangle \\otimes |\\psi\\rangle = (\\alpha |0\\rangle + \\beta|1\\rangle) \\otimes (\\alpha |0\\rangle + \\beta|1\\rangle)$$\n",
    "\n",
    "> Sin encontramos un circuito capaz de duplicar dos estados independientes de un qubit, no podemos copiar otro estado arbitrario que no esté en esa base por medio del mismo circuito.\n",
    "\n",
    "Esto es generalizable a estados de más qubits. Y es el contenido básico del denominado **teorema de no clonación**\n",
    "\n",
    "> **Teorema de no clonación:** Es imposible encontrar una transformación unitaria que sea capaz de duplicar el estado de un sistema cuántico, en otro de idéntica naturaleza, de tal forma que el sisterma original y el clon sean completamente independientes, es decir, estén descritos por un estado separable."
   ]
  },
  {
   "cell_type": "code",
   "execution_count": 9,
   "id": "c9b49527",
   "metadata": {},
   "outputs": [],
   "source": [
    "## Parametros de la red de copiado\n",
    "theta1 = np.arccos(1.0/np.sqrt(5))\n",
    "theta2 = np.arccos(np.sqrt(5)/3)\n",
    "theta3 = np.arccos(2/np.sqrt(5))"
   ]
  },
  {
   "cell_type": "code",
   "execution_count": 21,
   "id": "594a8819",
   "metadata": {},
   "outputs": [
    {
     "data": {
      "image/png": "[encoded data removed]",
      "text/plain": [
       "<Figure size 387.452x144.48 with 1 Axes>"
      ]
     },
     "execution_count": 21,
     "metadata": {},
     "output_type": "execute_result"
    }
   ],
   "source": [
    "## Demostracion de la fase de preparacion\n",
    "prep = QuantumCircuit(2)\n",
    "## Aplicamos rotacion theta1\n",
    "prep.ry(theta1,0)\n",
    "## Aplicamos CNOT\n",
    "prep.cx(0,1)\n",
    "## Aplicamos rotacion theta2\n",
    "prep.ry(theta2,1)\n",
    "## Aplicamos CNOT\n",
    "prep.cx(1,0)\n",
    "## Aplicamos rotacion theta3\n",
    "prep.ry(theta3,0)\n",
    "## Dibujamos el circuito\n",
    "prep.draw(output='mpl')"
   ]
  },
  {
   "cell_type": "code",
   "execution_count": 20,
   "id": "28d82258",
   "metadata": {},
   "outputs": [
    {
     "name": "stdout",
     "output_type": "stream",
     "text": [
      "[0.81649658+0.j 0.        +0.j 0.40824829+0.j 0.40824829+0.j]\n"
     ]
    }
   ],
   "source": [
    "## Simulamos el estado final\n",
    "PHI = execute(prep,backend).result().get_statevector()\n",
    "## Imprimimos el resultado final\n",
    "print(PHI)"
   ]
  },
  {
   "cell_type": "code",
   "execution_count": 28,
   "id": "6bd7370a",
   "metadata": {},
   "outputs": [],
   "source": [
    "paso_prep = prep.to_gate()\n",
    "paso_prep.name = 'preparacion'"
   ]
  },
  {
   "cell_type": "code",
   "execution_count": 56,
   "id": "0e0bc06b",
   "metadata": {},
   "outputs": [],
   "source": [
    "## Circuito de copiado\n",
    "MaquinaCopiado = QuantumCircuit(3,1)"
   ]
  },
  {
   "cell_type": "code",
   "execution_count": 57,
   "id": "54aab0d5",
   "metadata": {},
   "outputs": [
    {
     "data": {
      "text/plain": [
       "<qiskit.circuit.instructionset.InstructionSet at 0x7f87fa99b340>"
      ]
     },
     "execution_count": 57,
     "metadata": {},
     "output_type": "execute_result"
    }
   ],
   "source": [
    "## Cagamos un estado inicial arbitrario\n",
    "theta = np.pi/3.5\n",
    "phi = np.pi/2.7\n",
    "estado_a_copiar = np.array([\n",
    "    np.cos(theta),\n",
    "    np.exp(1j*np.pi)*np.sin(theta)\n",
    "])\n",
    "MaquinaCopiado.initialize(estado_a_copiar,0)"
   ]
  },
  {
   "cell_type": "code",
   "execution_count": 58,
   "id": "58f8e0f1",
   "metadata": {},
   "outputs": [
    {
     "data": {
      "text/plain": [
       "<qiskit.circuit.instructionset.InstructionSet at 0x7f87fbb068e0>"
      ]
     },
     "execution_count": 58,
     "metadata": {},
     "output_type": "execute_result"
    }
   ],
   "source": [
    "## Incluimos la fase de preparacion\n",
    "MaquinaCopiado.append(paso_prep,[1,2])\n",
    "## Colocamos una barrera por claridad\n",
    "MaquinaCopiado.barrier()"
   ]
  },
  {
   "cell_type": "code",
   "execution_count": 59,
   "id": "322a238d",
   "metadata": {},
   "outputs": [
    {
     "data": {
      "text/plain": [
       "<qiskit.circuit.instructionset.InstructionSet at 0x7f87fbb79400>"
      ]
     },
     "execution_count": 59,
     "metadata": {},
     "output_type": "execute_result"
    }
   ],
   "source": [
    "## Incluimos la fase de copiado\n",
    "MaquinaCopiado.cx(0,1)\n",
    "MaquinaCopiado.cx(0,2)\n",
    "MaquinaCopiado.cx(1,0)\n",
    "MaquinaCopiado.cx(2,0)"
   ]
  },
  {
   "cell_type": "code",
   "execution_count": 60,
   "id": "fa1ecb31",
   "metadata": {},
   "outputs": [
    {
     "data": {
      "image/png": "[encoded data removed]",
      "text/plain": [
       "<Figure size 568.197x264.88 with 1 Axes>"
      ]
     },
     "execution_count": 60,
     "metadata": {},
     "output_type": "execute_result"
    }
   ],
   "source": [
    "## Dibujamos circuito\n",
    "MaquinaCopiado.draw(output='mpl')"
   ]
  },
  {
   "cell_type": "code",
   "execution_count": 61,
   "id": "7d7a6ab5",
   "metadata": {},
   "outputs": [],
   "source": [
    "from qiskit.aqua.utils import get_subsystem_density_matrix"
   ]
  },
  {
   "cell_type": "code",
   "execution_count": 62,
   "id": "1a0f2a7e",
   "metadata": {},
   "outputs": [
    {
     "name": "stdout",
     "output_type": "stream",
     "text": [
      "[[ 0.42582636+0.00000000e+00j -0.32497597-3.97980782e-17j]\n",
      " [-0.32497597+3.97980782e-17j  0.57417364+0.00000000e+00j]]\n"
     ]
    }
   ],
   "source": [
    "## Ejecutamos y simulamos el circuito\n",
    "estado_final_registro = execute(MaquinaCopiado,backend).result().get_statevector()\n",
    "## Imprimimos matriz densidad reducida primer qubit\n",
    "rho0 = get_subsystem_density_matrix(estado_final_registro,[1,2])\n",
    "print(rho0)"
   ]
  },
  {
   "cell_type": "code",
   "execution_count": 63,
   "id": "5cd5bbf1",
   "metadata": {},
   "outputs": [
    {
     "name": "stdout",
     "output_type": "stream",
     "text": [
      "[[ 0.42582636+0.00000000e+00j -0.32497597-3.97980782e-17j]\n",
      " [-0.32497597+3.97980782e-17j  0.57417364+0.00000000e+00j]]\n"
     ]
    }
   ],
   "source": [
    "## Imprimimos matriz densidad reducida segundo qubit\n",
    "rho0 = get_subsystem_density_matrix(estado_final_registro,[0,2])\n",
    "print(rho0)"
   ]
  }
 ],
 "metadata": {
  "kernelspec": {
   "display_name": "Python 3",
   "language": "python",
   "name": "python3"
  },
  "language_info": {
   "codemirror_mode": {
    "name": "ipython",
    "version": 3
   },
   "file_extension": ".py",
   "mimetype": "text/x-python",
   "name": "python",
   "nbconvert_exporter": "python",
   "pygments_lexer": "ipython3",
   "version": "3.8.8"
  }
 },
 "nbformat": 4,
 "nbformat_minor": 5
}
