{
 "cells": [
  {
   "cell_type": "markdown",
   "id": "fresh-ideal",
   "metadata": {},
   "source": [
    "# Lección 2: Los postulados de la mecánica cuántica #\n",
    "\n",
    "La mecánica cuántica es el marco teórico en el que los científicos trabajan el desarrollo de teorías físicas relacionadas con el mundo microscópico. Este marco de trabajo matemático, por si solo, no indica las leyes que un sistema debería cumplir, sin embargo, ofrece el panorama de cómo este sistema puede cambiar.\n",
    "\n",
    "\n",
    "Los postulados de la mecánica cuántica son aquellos que establecen la relación entre el mundo físico y el formalismo matemático de la mecánica cuántica. \n",
    "Es importante tener en cuenta que el desarrollo de estos postulados se dio a traves del ensayo y el error, de forma tal que estos parecen partir de motivaciones no muy claras, sin embargo, nuestro objetivo en esta sesión es aprender el cómo aplicarlos y cuándo hacerlo.\n",
    "\n",
    "----\n",
    "\n",
    "\n",
    "Primero importaremos alguna librerías que son necesarias para desarrollar nuestro experimento\n"
   ]
  },
  {
   "cell_type": "code",
   "execution_count": 2,
   "id": "catholic-oliver",
   "metadata": {},
   "outputs": [],
   "source": [
    "from qiskit import QuantumRegister, ClassicalRegister\n",
    "from qiskit import QuantumCircuit, execute, Aer\n",
    "from qiskit.circuit import Parameter\n",
    "from qiskit.visualization import plot_histogram,state_visualization\n",
    "from qiskit.quantum_info.operators import Operator\n",
    "import matplotlib.pyplot as plt\n",
    "import numpy as np\n",
    "\n",
    "pi=np.pi"
   ]
  },
  {
   "cell_type": "markdown",
   "id": "computational-order",
   "metadata": {},
   "source": [
    "Ahora definimos una función con un parametro $\\phi$ que nos servirá para hacer una evolución temporal en una simulación de un interferómetro de Mach-Zehnder."
   ]
  },
  {
   "cell_type": "code",
   "execution_count": 5,
   "id": "controversial-devices",
   "metadata": {},
   "outputs": [],
   "source": [
    "def MZ_interferometer(phi):\n",
    "    # La variable phi esta relacionada al cambio de fase en uno de los dos caminos\n",
    "    MZ_circuit=QuantumCircuit(1)\n",
    "    \n",
    "    # Se define una compuerta de Hadamard la cual cumple la función de beam splitter\n",
    "    MZ_circuit.h(0)\n",
    "    \n",
    "    # Luego se hace una diferencia de camino a traves del uno de los caminos del campo,\n",
    "    # En este caso el que esta en el estado que llamamos |1>\n",
    "    \n",
    "    MZ_circuit.p(phi,0)\n",
    "    \n",
    "    # finalmente ponemos el siguiente BS para terminar con el interferómetro\n",
    "    MZ_circuit.h(0)\n",
    "    \n",
    "    \n",
    "    MZ_gate=MZ_circuit.to_gate()\n",
    "    MZ_gate.name = \"MZ-Interferometer\"\n",
    "    \n",
    "    return MZ_gate\n",
    "    "
   ]
  },
  {
   "cell_type": "markdown",
   "id": "modular-ebony",
   "metadata": {},
   "source": [
    "\n",
    "### Postulado 1 ###\n",
    "\n",
    "El primer postulado de la mecánica cuántica nos indica el espacio matemático en el que, dado un sistema, se trabaja el formalismo de la mecánica cuántica.\n",
    "Éste dicta que:\n",
    "Dado un sistema físico aislado hay un espacio vectorial complejo con un producto interno definido (un espacio de Hilbert) conocido como ***espacio de estados***  del sistema. El sistema en este espacio se representa a partir de un ***vector de estado***, el cual es unitario en este espacio, es decir.\n",
    "\n",
    "$$|\\psi\\rangle = \\sum_k c_k|k\\rangle \\hspace{2em} \\text{donde} \\hspace{2em} \\langle\\psi|\\psi\\rangle = \\sum_k |c_k|^2 = 1.$$\n",
    "\n",
    "La notación que se utiliza en la mecánica cuántica para escribir estos estados se conoce como la notación bra-ket de Dirac. En esta notación el estado bra se escribe, $\\langle \\psi |$ y su correspondiente ket es $|\\psi\\rangle$.\n",
    "\n",
    "En el caso de la computación cuántica nosotros vamos a estar interesados en un espacio de estados particular, un espacio de en el que el sistema tiene dos estados bien definidos $|0\\rangle$ y $|1\\rangle$, este espacio de estados lo llamaremos el espacio de qubit. En este caso los estados $|0\\rangle$ y $|1\\rangle$ son la base de nuestro espacio vectorial, y dado que estos se definen ortonormales, podemos representarlos en una forma vectorial\n",
    "\n",
    "$$|0\\rangle = \\begin{bmatrix}\n",
    "1 \\\\\n",
    "0\n",
    "\\end{bmatrix}\n",
    "\\hspace{2em} \n",
    "\\text{y}\n",
    "\\hspace{2em} \n",
    "|1\\rangle = \\begin{bmatrix}\n",
    "0 \\\\\n",
    "1\n",
    "\\end{bmatrix}$$\n",
    "\n",
    "Por lo tanto, el ket asociado a un estado arbitrario $|\\psi\\rangle$ se puede representar de la forma\n",
    "\n",
    "$$ |\\psi\\rangle = \\alpha|0\\rangle + \\beta|1\\rangle = \\begin{bmatrix}\n",
    "\\alpha \\\\\n",
    "\\beta\n",
    "\\end{bmatrix} $$\n",
    "\n",
    "Los coeficientes $\\alpha$ y $\\beta$ representan las amplitudes de los estados $|0\\rangle$ y $|1\\rangle$ respectivamente. Estos números Estan relacionados con las *probabilidades* de encontrar el sistema, en este caso el qubit, en un estado o el otro. Más en detalle, las probabilidades de encontrar el qubit $|\\psi\\rangle$ en el estado $|0\\rangle$ o $|1\\rangle$ después de realizar la medición son\n",
    "\n",
    "$$p(|0\\rangle) = |\\alpha|^2 \\hspace{2em}\\text{y}\\hspace{2em} p(|1\\rangle) = |\\beta|^2$$\n",
    "\n",
    "Antes de continuar hagamos un pequeño experimento.\n",
    "\n",
    "Preparemos un estado de una forma partícular, en concreto vamos a prepararlo en el estado\n",
    "\n",
    "$$|\\psi\\rangle = \\frac{1}{\\sqrt{2}}\\left(|0\\rangle + |1\\rangle\\right) $$"
   ]
  },
  {
   "cell_type": "code",
   "execution_count": 4,
   "id": "pressing-machine",
   "metadata": {},
   "outputs": [
    {
     "data": {
      "image/png": "[encoded data removed]",
      "text/plain": [
       "<Figure size 206.707x144.48 with 1 Axes>"
      ]
     },
     "execution_count": 4,
     "metadata": {},
     "output_type": "execute_result"
    }
   ],
   "source": [
    "qr=QuantumRegister(1)\n",
    "cr=ClassicalRegister(1)\n",
    "qc=QuantumCircuit(qr,cr)\n",
    "\n",
    "qc.h(qr[0])\n",
    "qc.measure(qr[0],cr[0])\n",
    "qc.draw(output='mpl')"
   ]
  },
  {
   "cell_type": "markdown",
   "id": "variable-marketing",
   "metadata": {},
   "source": [
    "De acuerdo con lo que vimos anteriormente entonces $\\alpha = \\beta = \\frac{1}{\\sqrt{2}}$. Por lo tanto, las probabilidades de que el qubit esté en los estados $|0\\rangle$ o $|1\\rangle$ son $p(|0\\rangle) = \\frac{1}{2}$ y $p(|1\\rangle) = \\frac{1}{2}$ respectivamente. Ahora realizamos una medición."
   ]
  },
  {
   "cell_type": "code",
   "execution_count": 6,
   "id": "psychological-carroll",
   "metadata": {},
   "outputs": [
    {
     "data": {
      "image/png": "[encoded data removed]",
      "text/plain": [
       "<Figure size 504x360 with 1 Axes>"
      ]
     },
     "execution_count": 6,
     "metadata": {},
     "output_type": "execute_result"
    }
   ],
   "source": [
    "backend = Aer.get_backend('qasm_simulator')\n",
    "results = execute(qc,backend,shots=10000).result().get_counts()\n",
    "plot_histogram(results)"
   ]
  },
  {
   "cell_type": "markdown",
   "id": "empty-academy",
   "metadata": {},
   "source": [
    "Lo que haremos ahora es agregar una fase de la forma $e^{i\\phi}$ en la amplitud del estado $|1\\rangle$. Por lo cual el estado toma la forma\n",
    "\n",
    "$$|\\psi\\rangle = \\frac{1}{\\sqrt{2}}\\left(|0\\rangle + i|1\\rangle\\right) .$$ \n"
   ]
  },
  {
   "cell_type": "code",
   "execution_count": 12,
   "id": "structural-atmosphere",
   "metadata": {},
   "outputs": [
    {
     "data": {
      "image/png": "[encoded data removed]",
      "text/plain": [
       "<Figure size 280.323x144.48 with 1 Axes>"
      ]
     },
     "execution_count": 12,
     "metadata": {},
     "output_type": "execute_result"
    }
   ],
   "source": [
    "qr=QuantumRegister(1)\n",
    "cr=ClassicalRegister(1)\n",
    "qc=QuantumCircuit(qr,cr)\n",
    "\n",
    "\n",
    "qc.h(qr[0])\n",
    "qc.p(pi/2,qr[0])\n",
    "qc.measure(qr[0],cr[0])\n",
    "qc.draw(output='mpl')"
   ]
  },
  {
   "cell_type": "markdown",
   "id": "automatic-athens",
   "metadata": {},
   "source": [
    "Midiendo nuevamente tenemos."
   ]
  },
  {
   "cell_type": "code",
   "execution_count": 15,
   "id": "unsigned-lancaster",
   "metadata": {},
   "outputs": [
    {
     "data": {
      "image/png": "[encoded data removed]",
      "text/plain": [
       "<Figure size 504x360 with 1 Axes>"
      ]
     },
     "execution_count": 15,
     "metadata": {},
     "output_type": "execute_result"
    }
   ],
   "source": [
    "backend = Aer.get_backend('qasm_simulator')\n",
    "results = execute(qc,backend,shots=10000).result().get_counts()\n",
    "plot_histogram(results)"
   ]
  },
  {
   "cell_type": "markdown",
   "id": "accepted-tuition",
   "metadata": {},
   "source": [
    "Es decir que, así se añadiera un factor de fase las distribuciones de probabilidad luego de medir son iguales, por lo tanto, los números $\\alpha$ y $\\beta$ tienen que ser números de la forma $\\alpha = |\\alpha|e^{i\\theta_\\alpha}$ y $\\beta = |\\beta|e^{i\\theta_\\beta}$, es decir, estos números pertenecen a $\\mathbb{C}$. \n",
    "\n",
    "Con base a este resultado, podemos escribir apropiadamente el bra asociado al estado $|\\psi\\rangle$. Este es\n",
    "\n",
    "$$\\langle \\psi | =  \\alpha^* \\langle 0 | + \\beta^*\\langle 1 | = \\begin{bmatrix}\n",
    "\\alpha^* ,\\beta^*\n",
    "\\end{bmatrix} $$\n",
    "\n",
    "Estos estados cumplen con las relaciones\n",
    "\n",
    "$$\\begin{eqnarray}\\langle 0|0 \\rangle &=&\\begin{bmatrix}\n",
    "1 ,0\n",
    "\\end{bmatrix}\\begin{bmatrix}\n",
    "1 \\\\\n",
    "0\n",
    "\\end{bmatrix}  &=& 1, \\\\\n",
    "\\langle 1|1\\rangle &=& \\begin{bmatrix}\n",
    "0 ,1\n",
    "\\end{bmatrix}\\begin{bmatrix}\n",
    "0 \\\\\n",
    "1\n",
    "\\end{bmatrix}  &=& 1, \\\\\n",
    "\t\t\\langle 0|1\\rangle &=& \\begin{bmatrix}\n",
    "1 ,0\n",
    "\\end{bmatrix}\\begin{bmatrix}\n",
    "0 \\\\\n",
    "1\n",
    "\\end{bmatrix}  &=& 0, \\\\\n",
    "        \\langle 1|0\\rangle &=& \\begin{bmatrix}\n",
    "0 ,1\n",
    "\\end{bmatrix}\\begin{bmatrix}\n",
    "1 \\\\\n",
    "0\n",
    "\\end{bmatrix}  &=& 0.\n",
    "\\end{eqnarray}$$\n",
    "\n",
    "Por lo cual el Bra-Ket del estado $|\\psi\\rangle$, el cual representa el producto punto en el espacio de estados, se escribe:\n",
    "\n",
    "$$ \\begin{eqnarray}\\langle\\psi|\\psi\\rangle &=& \\left( \\alpha^* \\langle 0 | + \\beta^*\\langle 1 | \\right) \\left(\\alpha|0\\rangle + \\beta|1\\rangle\\right)\\\\\n",
    "&=&|\\alpha|^2 + |\\beta|^2 = 1\\end{eqnarray} $$\n",
    "\n",
    "O vectorialmente\n",
    "\n",
    "$$\\langle\\psi|\\psi\\rangle =  \\begin{bmatrix}\n",
    "\\alpha^* ,\\beta^*\n",
    "\\end{bmatrix}\\begin{bmatrix}\n",
    "\\alpha \\\\\n",
    "\\beta\n",
    "\\end{bmatrix} = |\\alpha|^2 + |\\beta|^2 = 1$$\n",
    "\n",
    "\n",
    "\n",
    "\n",
    "\n",
    "Adicionalmente, así como definimos el Bra-ket podemos definir un Ket-Bra, que tendría la forma\n",
    "\n",
    "$$|\\psi\\rangle\\langle\\psi| = \\begin{bmatrix}\n",
    "\\alpha\\alpha^*&\\alpha\\beta^*\\\\\n",
    "\\beta\\alpha^*&\\beta\\beta^*\n",
    "\\end{bmatrix}\n",
    "$$\n",
    "\n",
    "Este tipo de producto, que es similar al producto tensorial, se conoce en este contexto como el producto de Kronecker.\n",
    "\n",
    "\n",
    "Dado que los números $\\alpha$ y $\\beta$ son complejos entonces un sistema de dos estados, como es el caso de un qubit, puede representarse sobre la superficie de una esfera de radio $1$, esta esfera se conoce como la *Esfera de Bloch*. \n",
    "<img src=\"Lec_2_Postulados_files/BvsQB.png\" alt=\"drawing\" width=\"400\"/>\n",
    "\n",
    "\n",
    "--------"
   ]
  },
  {
   "cell_type": "markdown",
   "id": "prompt-research",
   "metadata": {},
   "source": [
    "### Postulado 2 ###\n",
    "\n",
    "La evolución temporal de un sistema cuántico ***cerrado*** se describe a traves de una ***transformación unitaria***. esto implica que si en un tiempo $t_{1}$ el sistema se encuentra en el estado $|\\psi\\rangle$. Luego, en un instante $t_2$ el sistema estará en el estado $|\\psi '\\rangle$. Esta evolución se da por un operador unitario $U(t_1,t_2)$, que solo depende de los dos tiempos ya mencionados. Esta evolución se puede escribir como\n",
    "$$ |\\psi'\\rangle = U |\\psi\\rangle. $$\n",
    "\n",
    "Así mismo, teniendo en mente el operador Hamiltoniano de un sistema cerrado, se puede escribir la evolución temporal de este a traves de la ecuación de Schrödinger, \n",
    "$$ i\\hbar \\frac{d|\\psi\\rangle}{dt} = \\mathcal{H} |\\psi\\rangle $$\n",
    "\n",
    "Como hemos visto, así como los estados tienen una representación vectorial, los operadores que actuan sobre los estados se pueden representar matricialmente para que modifiquen estos estados. En el caso de la computación cuántica cada una de las compuertas que se usan tiene una representación matricial. El primer operador que veremos es el operador identidad $\\mathbb{1}$. Este operador no modifica el estado de ninguna forma, y se puede representar matricialmente como\n",
    "\n",
    "$$\\mathbb{1} =\\begin{bmatrix}\n",
    "\t\t1 & 0 \\\\ \n",
    "\t\t0 & 1\n",
    "\t\\end{bmatrix} .\n",
    "$$\n",
    "\n",
    " \n",
    "Otra transformación se representa mediante el símbolo $X$, esta transformación lo que hace es intercambiar los elementos de la base, es decir\n",
    "\n",
    "$$\\begin{equation}\n",
    "\tX|0\\rangle\\rightarrow|1\\rangle, \\hspace{2em}\tX|1\\rangle\\rightarrow|0\\rangle.\n",
    "\\end{equation}$$\n",
    "\n",
    "Matricialmente se puede representar como\n",
    "\n",
    "$$\\begin{equation}\n",
    "\tX=\\begin{bmatrix}\n",
    "\t0 & 1 \\\\ \n",
    "\t1 & 0\n",
    "\t\\end{bmatrix}. \n",
    "\\end{equation}$$\n",
    "\n",
    "Esta transformación se llama phase-flip y se puede representar mediante el operador $Z$. esta cambia la fase relativa entre los estados  $|0\\rangle$ y $|1\\rangle$ en un factor de $\\pi$, es decir\n",
    "\n",
    "$$\\begin{equation}\n",
    "\tZ|0\\rangle\\rightarrow|0\\rangle, \\hspace{2em}\tZ|1\\rangle\\rightarrow -|1\\rangle.\n",
    "\\end{equation} $$\n",
    "\n",
    "Matricialmente se representa por\n",
    "\n",
    "$$\\begin{equation}\n",
    "Z=\\begin{bmatrix}\n",
    "1 & 0 \\\\ \n",
    "0 & -1\n",
    "\\end{bmatrix} \n",
    "\\end{equation}$$\n",
    "\n",
    "Los operadores $X$ y $Z$ son dos de los conocidos operadores de Pauli, Estos se representan por las llamadas matrices de Pauli. Adicionalmente hay otra transformación que viene de la combinación entre $X$ y $Z$ de la forma $ZX$, esta actúa sobre el estado de forma tal que \n",
    "\n",
    "$$\\begin{equation}\n",
    "\t\tZX|0\\rangle\\rightarrow-|1\\rangle, \\hspace{2em}\tZX|1\\rangle\\rightarrow |0\\rangle.\n",
    "\\end{equation} $$\n",
    "\n",
    "Se puede representar matricialmente de la forma\n",
    "\n",
    "$$\\begin{equation}\n",
    "\tZX=\\begin{bmatrix}\n",
    "\t0 & 1 \\\\ \n",
    "\t-1 & 0\n",
    "\t\\end{bmatrix} = iY\n",
    "\\end{equation}$$\n",
    "\n",
    "Con $Y$ La tercera matriz de Pauli. Esta tiene la forma\n",
    "\n",
    "$$\\begin{equation}\n",
    "\tY=\\begin{bmatrix}\n",
    "\t0 & -i \\\\ \n",
    "\ti & 0\n",
    "\t\\end{bmatrix}.\n",
    "\\end{equation}$$\n",
    "\n",
    "En este punto es importante definir la operación $^\\dagger$ que se realiza sobre un operador. Esta operación implica tomar el operador transpuesto y complejo conjugado, por ejemplo para el operador $Y$ tenemos\n",
    "\n",
    "$$\\begin{equation}\n",
    "\tY=\\begin{bmatrix}\n",
    "\t0 & -i \\\\ \n",
    "\ti & 0\n",
    "\t\\end{bmatrix}\\Rightarrow Y^\\dagger=\\begin{bmatrix}\n",
    "\t0 & i \\\\ \n",
    "\t-i & 0\n",
    "\t\\end{bmatrix}^* = \\begin{bmatrix}\n",
    "\t0 & -i \\\\ \n",
    "\ti & 0\n",
    "\t\\end{bmatrix}.\n",
    "\\end{equation}$$\n",
    "\n",
    "Como vimos, $Y = Y^\\dagger$, esta es una propiedad llamada *Hermiticidad*. Cuando un operador en mecánica cuántica es hermítico, entonces es posible medir los observables asociados a ese operador.\n",
    "\n",
    "Además de los operadores de Pauli hay otro par de operadores que son importantes para futuros desarrollos. El primero es el operador de Hadamard, el cual tiene la forma\n",
    "\n",
    "\n",
    "$$H =\\frac{1}{\\sqrt{2}} \\begin{bmatrix}\n",
    "1 & 1\\\\\n",
    "1 & -1 \n",
    "\\end{bmatrix}$$\n",
    "\n",
    "Esta compuerta lo que hace es rotar los estados en un ángulo de 45°. Es decir\n",
    "\n",
    "$$|0\\rangle\\rightarrow \\frac{1}{\\sqrt{2}}\\left(|0\\rangle + |1\\rangle\\right)\\hspace{2em} \\text{y}\\hspace{2em}|1\\rangle \\rightarrow \\frac{1}{\\sqrt{2}} \\left(|0\\rangle - |1\\rangle\\right)$$\n",
    "\n",
    "Un ultimo operador que nos sirve en este momento es el cambio de fase. Este operador lo que hace es añadir una fase cuando el sistema se encuentra en el estado $|1\\rangle$. Matricialmente se puede representar como \n",
    "\n",
    "$$u_1(\\phi) =\\begin{bmatrix}\n",
    "1 & 0\\\\\n",
    "0 & e^{i\\phi} \n",
    "\\end{bmatrix}$$\n",
    "\n",
    "\n",
    "Para ilustrar este principio lo que haremos será simular un interferómetro de Mach-Zehnder como el que se muestra en la siquiente figura.\n",
    "\n",
    "<img src=\"Lec_2_Postulados_files/MZ-interferometer.png\" alt=\"drawing\" width=\"600\"/>\n",
    "\n",
    "En este caso, solo se envía un fotón por la entrada 1. El estado inicial se puede representar de la forma\n",
    "$$ |\\psi_i\\rangle = |0\\rangle$$\n",
    "\n",
    "\n",
    "-----\n"
   ]
  },
  {
   "cell_type": "code",
   "execution_count": 12,
   "id": "fatty-crisis",
   "metadata": {},
   "outputs": [
    {
     "data": {
      "image/png": "[encoded data removed]",
      "text/plain": [
       "<Figure size 327.397x144.48 with 1 Axes>"
      ]
     },
     "execution_count": 12,
     "metadata": {},
     "output_type": "execute_result"
    }
   ],
   "source": [
    "## Primero definiremos el fotón en el estado inicial $|0>$\n",
    "qr=QuantumRegister(1)\n",
    "cr=ClassicalRegister(1)\n",
    "qc=QuantumCircuit(qr,cr)\n",
    "\n",
    "# definimos el parametro\n",
    "phi=Parameter('$\\phi$')\n",
    "\n",
    "# Definimos el espaciamiento deseado\n",
    "angulos = np.linspace(0,2*pi,100)\n",
    "\n",
    "## Aplicamos el interferómetro de MZ a nuestro estado inicial\n",
    "MZ_I = MZ_interferometer(phi)\n",
    "\n",
    "\n",
    "qc.append(MZ_I,[0])\n",
    "qc.measure(qr[0],cr[0])\n",
    "qc.decompose().draw(output='mpl')"
   ]
  },
  {
   "cell_type": "markdown",
   "id": "invalid-convert",
   "metadata": {},
   "source": [
    "\n",
    "Luego de pasar por el interferómetro, el estado final toma la forma\n",
    "\n",
    "$$|\\psi_f\\rangle = \\cos\\frac{\\phi}{2}|0\\rangle - i\\sin\\frac{\\phi}{2} |1\\rangle$$\n",
    "\n",
    "Por lo tanto, las probabilidades de medir el estado $|0\\rangle$, es decir, que se haga una detección en el detector $D_4$  y de medir $|1\\rangle$, es decir, hacer una detección en el detector $D_5$ son:\n",
    "\n",
    "$$P_0 = \\cos^2 \\frac{\\phi}{2} \\hspace{2em} \\text{y}\\hspace{2em} P_1 = \\sin^2 \\frac{\\phi}{2}$$\n",
    "\n",
    "De acá se ve claramente que \n",
    "\n",
    "$$ P_0 + P_1 = \\cos^2 \\frac{\\phi}{2} +\\sin^2 \\frac{\\phi}{2} = 1 $$"
   ]
  },
  {
   "cell_type": "code",
   "execution_count": 10,
   "id": "electronic-colon",
   "metadata": {},
   "outputs": [
    {
     "data": {
      "image/png": "[encoded data removed]",
      "text/plain": [
       "<Figure size 432x288 with 1 Axes>"
      ]
     },
     "metadata": {
      "needs_background": "light"
     },
     "output_type": "display_data"
    }
   ],
   "source": [
    "shots=1024\n",
    "backend = Aer.get_backend('qasm_simulator')\n",
    "resultados = execute(qc,backend,parameter_binds=[{phi:angulo}for angulo in angulos],shots=shots).result().get_counts()\n",
    "\n",
    "\n",
    "## Capturamos la probabilidad de en el medidor 1\n",
    "P_0 = np.array([resultado.get('0',0)/shots for resultado in resultados])\n",
    "\n",
    "## Capturamos la probabilidad de en el medidor 2\n",
    "P_1 = np.array([resultado.get('1',0)/shots for resultado in resultados])\n",
    "\n",
    "\n",
    "## Graficamos\n",
    "plt.title(r'Probabilidad de medición por detector en el interferometro Mach-Zehnder')\n",
    "plt.xlabel(r'$\\phi$ (radianes)')\n",
    "plt.ylabel(r'$Probabilidades$')\n",
    "plt.plot(angulos,P_0,label='P_0',color='k')\n",
    "plt.plot(angulos,P_1,label='P_1',color='r')\n",
    "plt.plot(angulos,P_0 + P_1,label='P_0 + P_1',color='b')\n",
    "plt.legend(bbox_to_anchor = (1, 1))\n",
    "plt.show()"
   ]
  },
  {
   "cell_type": "markdown",
   "id": "lyric-cabinet",
   "metadata": {},
   "source": [
    "### Postulado 3 ###\n",
    "\n",
    "Las mediciones a un sistema cuántico se describen a traves de una colección ${M_{m}}$ de ***operadores de medición***. Estos operadores actuan sobre el es estacio de estados del sistema. El indice $m$ se refiere a las posibles mediciones que pueden resultar en el experimento. Es decir, si un sistema se encuentra en el estado $|\\psi>$ justo antes de la medición, la probabilidad de que se de el resultado $m$ es\n",
    "\n",
    "$$p(m) = \\langle\\psi|M_m^{\\dagger}M_m|\\psi\\rangle.$$\n",
    "\n",
    "Luego de la medición el estado del sistema colapsa al estado\n",
    "\n",
    "$$\\frac{M_m |\\psi\\rangle}{\\sqrt{\\langle\\psi|M_m^{\\dagger}M_m|\\psi\\rangle}}.$$\n",
    "\n",
    "Es importante tener en cuenta que los operadores de medición satisfacen la relación de completez\n",
    "\n",
    "$$\\sum_m M_m^{\\dagger}M_m = I .$$\n",
    "\n",
    "Esta relación de completez muestra también el hecho de que la suma de las probabilidades de que el sistema este en el estado $m$ sea uno:\n",
    "\n",
    "$$\\sum_m p(m) = \\sum_m \\langle\\psi|M_m^{\\dagger}M_m|\\psi\\rangle = 1$$\n",
    "\n",
    "En el caso de un qubit, tenemos dos operadores de medición, el que mide el estado $|0\\rangle$ que llamamos $M_0$ y el que mide el estado $|1\\rangle$ que llamamos $M_1$. Se representan de la forma\n",
    "\n",
    "$$M_0=\\begin{bmatrix}\n",
    "\t\t1 & 0 \\\\ \n",
    "\t\t0 & 0\n",
    "\t\\end{bmatrix} \\hspace{2em} \\text{y} \\hspace{2em} M_1=\\begin{bmatrix}\n",
    "\t\t0 & 0 \\\\ \n",
    "\t\t0 & 1\n",
    "\t\\end{bmatrix} \n",
    "$$\n",
    "\n",
    "Entonces, por ejemplo, tomemos el estado final presentado en el caso del interferómetro de Mach-Zehnder\n",
    "\n",
    "$$|\\psi\\rangle = \\cos\\frac{\\phi}{2}|0\\rangle - i\\sin\\frac{\\phi}{2} |1\\rangle\n",
    "$$\n",
    "\n",
    "Primero supongamos que al realizar la medición el estado resulta ser $|0\\rangle$, entonces el estado luego de la medición es\n",
    "\n",
    "$$\\begin{eqnarray}|\\psi\\rangle &\\rightarrow& \\frac{M_0 |\\psi\\rangle}{\\sqrt{\\langle\\psi|M_0^{\\dagger}M_0|\\psi\\rangle}}\\\\\n",
    "&=& \\frac{\\cos\\frac{\\phi}{2} |0\\rangle}{\\sqrt{\\cos^2\\frac{\\phi}{2}}} = |0\\rangle\\end{eqnarray}\n",
    "$$\n",
    "\n",
    "De igual forma, suponiendo que al medir el estado colapsó al estado $|1\\rangle$, se tiene \n",
    "\n",
    "$$\\begin{eqnarray}|\\psi\\rangle &\\rightarrow& \\frac{M_1 |\\psi\\rangle}{\\sqrt{\\langle\\psi|M_1^{\\dagger}M_1|\\psi\\rangle}}\\\\\n",
    "&=& \\frac{\\sin\\frac{\\phi}{2} |1\\rangle}{\\sqrt{\\sin^2\\frac{\\phi}{2}}} = |1\\rangle\\end{eqnarray}\n",
    "$$\n",
    "\n",
    "\n",
    "-----"
   ]
  },
  {
   "cell_type": "markdown",
   "id": "split-founder",
   "metadata": {},
   "source": [
    "### Postulado 4 ###\n",
    "El espacio de los estados de un sistema físico compuesto es el producto tensorial entre los espacios de estados de los componentes de este sistema compuesto. Esto quiere decir que, si tenemos $1,2,...,n$ sistemas que se encuentran en los estados $|\\psi_1>,|\\psi_2>,...,|\\psi_n>$ respectivamente, entonces, la decripción de el sistema físico compuesto $|\\Psi>$ sería\n",
    "\n",
    "$$|\\Psi> = |\\psi_1>\\otimes |\\psi_2> \\otimes ... \\otimes |\\psi_n>$$\n",
    "\n",
    "Para ilustrar este postulado, vamos a pensar en dos sistemas de 1 qubit los cuales vamos a nombrar $|\\psi_1\\rangle$ y $|\\psi_2\\rangle$ por lo cual el sistema completo se puede ver de la forma $|\\Psi\\rangle = |\\psi_1\\rangle \\otimes |\\psi_2\\rangle$. Una base para expandir estos estados es la de {$|0\\rangle$, $|1\\rangle$}, esta base para cada uno de los qubits, entonces, el estado total se puede expandir en la base:\n",
    "\n",
    "$$ \\{|0\\rangle,|1\\rangle\\} \\otimes \\{|0\\rangle,|1\\rangle\\} = \\{|0\\rangle\\otimes |0\\rangle, |0\\rangle\\otimes |1\\rangle, |1\\rangle\\otimes |0\\rangle, |1\\rangle\\otimes |1\\rangle\\} $$\n",
    "\n",
    "Usando la notación $|0\\rangle\\otimes |0\\rangle = |0 0\\rangle$ y así para los otros sistemas, donde el primer y segundo número corresponden a los sistemas $|\\psi_1\\rangle$ y $|\\psi_2\\rangle$ respectivamente. Este producto se puede visualizar vectorialmente de la forma\n",
    "\n",
    "$$|0 0\\rangle = |0\\rangle\\otimes |0\\rangle = \\begin{bmatrix}\n",
    "1\\\\\n",
    "0\n",
    "\\end{bmatrix}\\otimes\\begin{bmatrix}\n",
    "1\\\\\n",
    "0\n",
    "\\end{bmatrix} = \\begin{bmatrix}\n",
    "1\\begin{bmatrix}\n",
    "1\\\\\n",
    "0\n",
    "\\end{bmatrix}\\\\\n",
    "0\\begin{bmatrix}\n",
    "1\\\\\n",
    "0\n",
    "\\end{bmatrix}\n",
    "\\end{bmatrix} = \\begin{bmatrix}\n",
    "1\\\\\n",
    "0\\\\\n",
    "0\\\\\n",
    "0\n",
    "\\end{bmatrix}$$\n",
    "\n",
    "Realizando los otros productos de la base se puede llegar a \n",
    "$$ |0 0\\rangle =  \\begin{bmatrix}\n",
    "1\\\\\n",
    "0\\\\\n",
    "0\\\\\n",
    "0\n",
    "\\end{bmatrix},\\hspace{1em}|0 1\\rangle =  \\begin{bmatrix}\n",
    "0\\\\\n",
    "1\\\\\n",
    "0\\\\\n",
    "0\n",
    "\\end{bmatrix},\\hspace{1em}|1 0\\rangle =  \\begin{bmatrix}\n",
    "0\\\\\n",
    "0\\\\\n",
    "1\\\\\n",
    "0\n",
    "\\end{bmatrix},\\hspace{1em}|1 1\\rangle =  \\begin{bmatrix}\n",
    "0\\\\\n",
    "0\\\\\n",
    "0\\\\\n",
    "1\n",
    "\\end{bmatrix}.$$\n",
    "\n",
    "Sin embargo, como bien sabemos, hay infinitos conjuntos de vectores que pueden ser la base del espacio en el que estamos trabajando, del mismo modo, hay diferentes estados de dos partículas que pueden funcionar como base para el espacio de Hilbert en el que los posibles estados de estas partículas reciden. Una base de interes para la computación cuántica es la conocida *Base de Bell*. La base de Bell para dos qubits representa los posibles estados *entrelazados* que pueden haber entre ellas. Los 4 elementos de la base de Bell para 2 qubits son\n",
    "\n",
    "$$\\begin{eqnarray}\n",
    "\t\t|\\Psi^+\\rangle_{1,2} &=& \\frac{1}{\\sqrt{2}}\\left(|01 \\rangle + |10\\rangle\\right),\\\\\n",
    "\t\t|\\Psi^-\\rangle_{1,2} &=& \\frac{1}{\\sqrt{2}}\\left(|01 \\rangle - |10\\rangle\\right),\\\\\n",
    "\t\t|\\Phi^+\\rangle_{1,2} &=& \\frac{1}{\\sqrt{2}}\\left(|00 \\rangle + |11 \\rangle\\right),\\\\\n",
    "\t\t|\\Phi^-\\rangle_{1,2} &=& \\frac{1}{\\sqrt{2}}\\left(|00 \\rangle - |11 \\rangle\\right).\n",
    "\\end{eqnarray}$$\n",
    "\n",
    "Como pueden notar, NO es posible expresar alguno de los anteriores estados de la forma $|\\psi\\rangle_1 \\otimes |\\psi\\rangle_1$, es decir, no se puede expresar como el producto de estados de las partículas singulares. Este tipo de estados es único de la mecánica cuántica, y son estados en los que, una vez se haga la medición de una de las dos partículas, o uno de los dos qubits, el estado del segundo quedará totalmente determinado por el resultado de la medición hecha en el primer qubit.\n",
    "\n",
    "Ahora vamos a cunstruir estos estados, para esto tenemos el siguiente cuadro\n",
    "\n",
    "Estado inicial $|ij\\rangle$|$\\left(H_1 \\otimes I_2\\right)$|$|\\Psi\\rangle_{i,j}$|\n",
    ":------------:|:---------------:|:--------------:|\n",
    "$| 00 \\rangle$|$\\frac{1}{\\sqrt{2}}\\left(|00 \\rangle + |10\\rangle\\right)$|$|\\Phi^+\\rangle_{1,2}$|\n",
    "$| 01 \\rangle$|$\\frac{1}{\\sqrt{2}}\\left(|01 \\rangle + |11\\rangle\\right)$|$|\\Psi^+\\rangle_{1,2}$|\n",
    "$| 10 \\rangle$|$\\frac{1}{\\sqrt{2}}\\left(|00 \\rangle - |10\\rangle\\right)$|$|\\Phi^-\\rangle_{1,2}$|\n",
    "$| 11 \\rangle$|$\\frac{1}{\\sqrt{2}}\\left(|01 \\rangle - |11\\rangle\\right)$|$|\\Psi^-\\rangle_{1,2}$|\n",
    "\n",
    "$$\\hspace{2em}\\overset{\\text{Hadamard sobre } q_1}{\\longrightarrow}\\hspace{2em}\\overset{\\text{CNOT} q_1,q_2}{\\longrightarrow}$$\n",
    "\n",
    "A continuación vamos a construir el primer estado de la base de Bell"
   ]
  },
  {
   "cell_type": "code",
   "execution_count": 24,
   "id": "introductory-parish",
   "metadata": {},
   "outputs": [
    {
     "data": {
      "image/png": "[encoded data removed]",
      "text/plain": [
       "<Figure size 353.649x204.68 with 1 Axes>"
      ]
     },
     "execution_count": 24,
     "metadata": {},
     "output_type": "execute_result"
    }
   ],
   "source": [
    "# Iniciamos los registros necesarios\n",
    "qr=QuantumRegister(2)\n",
    "cr=ClassicalRegister(2)\n",
    "qc=QuantumCircuit(qr,cr)\n",
    "\n",
    "#Ahora realizamos la operación de Hadamard sobre el primer qubit de abajo hacia arriba, es decir, el qubit[1]\n",
    "qc.h(qr[1])\n",
    "\n",
    "#Ahora aplicamos la compuerta CNOT con controlada por el primer qubit, apuntando al segundo, es decir\n",
    "qc.cx(qr[1],qr[0])\n",
    "\n",
    "qc.measure(qr[0],cr[0])\n",
    "qc.measure(qr[1],cr[1])\n",
    "qc.draw(output='mpl')"
   ]
  },
  {
   "cell_type": "code",
   "execution_count": 25,
   "id": "important-phoenix",
   "metadata": {},
   "outputs": [
    {
     "data": {
      "image/png": "[encoded data removed]",
      "text/plain": [
       "<Figure size 504x360 with 1 Axes>"
      ]
     },
     "execution_count": 25,
     "metadata": {},
     "output_type": "execute_result"
    }
   ],
   "source": [
    "backend = Aer.get_backend('qasm_simulator')\n",
    "results = execute(qc,backend,shots=10000).result().get_counts()\n",
    "plot_histogram(results)"
   ]
  },
  {
   "cell_type": "markdown",
   "id": "electric-title",
   "metadata": {},
   "source": [
    "Como vemos, cada vez que el qubit 1 está en el estado $|i\\rangle$ con $i = 0,1$, el qubit 0 siempre está en su mismo estado, tal cuál como nos indica el estado de Bell $|\\Phi^+\\rangle_{1,2} = \\frac{1}{\\sqrt{2}}\\left(|00 \\rangle + |11 \\rangle\\right)$."
   ]
  },
  {
   "cell_type": "markdown",
   "id": "weekly-tension",
   "metadata": {},
   "source": [
    "## Referencias\n",
    "\n",
    "* Nielsen & Chuang. **Quantum Computation and Quantum Information**. Cambridge University Press, 2010.\n",
    "* Beck. **Quantum Mechanics Theory and Experiments**. Cambridge University Press, 2012.\n",
    "* Ataman. **The quantum optical description of a double Mach-Zehnder interferometer**. arXiv:1407.1704 [physics.optics]. 2014.\n",
    "* Ekert. **From Interferometers to Quantum Computers**. Supplementary material, Mathematical Institute, University of Oxford, 2010.\n",
    "* Wilde. **Quantum Information Theory**. Cambridge University Press, 2013.\n",
    "\n",
    "Muchas gracias por leer esta publicación! Abajo se encuentran links a las lecciones siguientes en el Crash Course de QC-FEM.\n",
    "    "
   ]
  },
  {
   "cell_type": "code",
   "execution_count": null,
   "id": "focal-civilian",
   "metadata": {},
   "outputs": [],
   "source": []
  }
 ],
 "metadata": {
  "kernelspec": {
   "display_name": "Python 3",
   "language": "python",
   "name": "python3"
  },
  "language_info": {
   "codemirror_mode": {
    "name": "ipython",
    "version": 3
   },
   "file_extension": ".py",
   "mimetype": "text/x-python",
   "name": "python",
   "nbconvert_exporter": "python",
   "pygments_lexer": "ipython3",
   "version": "3.8.5"
  }
 },
 "nbformat": 4,
 "nbformat_minor": 5
}
