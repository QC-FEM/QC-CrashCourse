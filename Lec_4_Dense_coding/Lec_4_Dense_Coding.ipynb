{
 "cells": [
  {
   "cell_type": "markdown",
   "id": "hungry-circus",
   "metadata": {},
   "source": [
    "# Lección 4: Protocolo de codificación densa\n",
    "\n",
    "Los estados entrelazados, como lo hemos visto en las sesiones anteriores, permiten realizar cosas bastante interesantes. La propiedad de entrelazamiento entre un par de partículas dio pie para la proposición de diferentes protocolos cuánticos cuyas posibles aplicaciones se exploran aún en la actualidad.\n",
    "\n",
    "En esta lección analizaremos en detalle el protocolo de codificación densa. Este protocolo es posible gracias a las propiedades del entrelazamiento entre dos partículas. \n",
    "\n",
    "Las fuentes de este tipo de partículas las llamaremos fuentes EPR por los autores del artículo *Can Quantum-Mechanical Description of Physical Reality Be Considered Complete?* publicado por Albert Einstein, Boris Podolsky, y Nathan Rosen en 1935 en donde se muestra como el formalismos de la mecánica cuántica permite que un par de partículas compartan esta propiedad de entrelazamiento.\n",
    "\n",
    "**SUPER IMPORTANTE:** En este ejemplo intentaremos presentar al lector cómo simular el protocolo cuántico de teleportación en un computador cuántico. Esta sesiónes está disponible en nuestro servidor de MyBinder.\n",
    "​\n",
    "<p align=\"center\">\n",
    "  <a href=\"https://mybinder.org/v2/gh/QC-FEM/QC-CrashCourse/HEAD\">\n",
    "    <img src=\"https://mybinder.org/badge_logo.svg\">\n",
    "  </a>\n",
    "</p>\n",
    "\n",
    "Como de costumbre realizamos las importaciones necesarias para neustro circuito."
   ]
  },
  {
   "cell_type": "code",
   "execution_count": 1,
   "id": "played-compensation",
   "metadata": {},
   "outputs": [],
   "source": [
    "from qiskit import QuantumRegister, ClassicalRegister\n",
    "from qiskit import QuantumCircuit, execute, Aer\n",
    "from qiskit.visualization import plot_histogram,state_visualization\n",
    "from qiskit.quantum_info.operators import Operator\n",
    "import matplotlib.pyplot as plt\n",
    "import numpy as np"
   ]
  },
  {
   "cell_type": "markdown",
   "id": "otherwise-mouth",
   "metadata": {},
   "source": [
    "Para realizar este protocolo primero tenemos que definir lo que se conoce como un *alfabeto*, esto es, a ciertos estados cuánticos, les vamos a asignar cierta información. En este caso presentaremos el protocolo para enviar un mensaje de 2 bits. entonces la asignación que definimos va a ser.\n",
    "$$ 00 \\longrightarrow |\\Phi^+\\rangle_{AB} = \\frac{1}{\\sqrt{2}}\\left(|00 \\rangle + |11\\rangle\\right)$$\n",
    "$$ 01 \\longrightarrow |\\Psi^+\\rangle_{AB} = \\frac{1}{\\sqrt{2}}\\left(|01 \\rangle + |10\\rangle\\right)$$\n",
    "$$ 10 \\longrightarrow |\\Phi^-\\rangle_{AB} = \\frac{1}{\\sqrt{2}}\\left(|00 \\rangle - |11\\rangle\\right)$$\n",
    "$$ 11 \\longrightarrow |\\Psi^-\\rangle_{AB} = \\frac{1}{\\sqrt{2}}\\left(|01 \\rangle - |10\\rangle\\right)$$\n",
    "\n",
    "El protocolo se puede ilustrar en la siquiente imagen.\n",
    "\n",
    "<img src=\"Lec_4_Dense_coding_files/QDCP.png\" alt=\"drawing\" width=\"500\">\n",
    "\n",
    "- Paso 1: Una fuente EPR, la cual es una fuente de partículas entrelazadas, entrega un par de partículas entrelazadas a Alice y Bob. A la partícula de Alice la llamamos $A$ y a la partícula de Bob la llamamos $B$. Estas partículas deben estar entrelazadas en un estado de Bell, en este ejemplo partícular elegimos el estado de la forma $|\\Phi^{+}\\rangle_{AB} = \\frac{1}{\\sqrt{2}}|00\\rangle + \\frac{1}{\\sqrt{2}} |11\\rangle$.\n",
    "- Paso 2: Bob realiza una operación unitaria sobre su qubit dependiendo de el mensaje que el desea enviar, las posibilidades que el tiene son:\n",
    "\n",
    "$$I_B |\\Phi^+\\rangle\\rightarrow |\\Phi^+\\rangle \\rightarrow 00$$\n",
    "\n",
    "$$X_B |\\Phi^+\\rangle\\rightarrow |\\Psi^+\\rangle \\rightarrow 01$$\n",
    "\n",
    "$$Z_B |\\Phi^+\\rangle\\rightarrow |\\Phi^-\\rangle \\rightarrow 10$$\n",
    "\n",
    "$$X_B Z_B |\\Phi^+\\rangle\\rightarrow |\\Psi^-\\rangle \\rightarrow 11\\hspace{1.1em}$$\n",
    "\n",
    "   Por ejemplo si el quisiera enviar el mensaje $01$, entonces debe aplicar una compuerta NOT sobre su qubit para formar este mensaje.\n",
    "\n",
    "- Paso 3: Luego de que Bob realiza la operación unitaria sobre su qubit, el se lo envía a Alice para que ella realiza una medición del estado de Bell (BSM) entre los dos qubits y de acuerdo a su resultado ella sabrá que mensaje le quiso enviar Bob.\n",
    "\n",
    "Para realizar el protocolo definimos la una función que es la que va a entrelazar los dos qubits en el estado deseado."
   ]
  },
  {
   "cell_type": "code",
   "execution_count": 2,
   "id": "consistent-desktop",
   "metadata": {},
   "outputs": [],
   "source": [
    "def entangle_qubits(circuit, q_Alice, q_Bob):\n",
    "    \n",
    "    ## Entrelazamos un par de qubits en un estado de Bell\n",
    "    circuit.h(q_Alice)                 ## Hadamard sobre el qubit de Alice\n",
    "    circuit.cx(q_Alice,q_Bob)          ## CNOT para entrelazar los qubits de Alice y Bob\n",
    "     \n",
    "    \n",
    "    return circuit"
   ]
  },
  {
   "cell_type": "markdown",
   "id": "norwegian-cartoon",
   "metadata": {},
   "source": [
    "Luego definimos una función que, de acuerdo con el mensaje que desea enviar Bob se realiza una operación unitaria"
   ]
  },
  {
   "cell_type": "code",
   "execution_count": 7,
   "id": "desirable-trustee",
   "metadata": {},
   "outputs": [],
   "source": [
    "def Bob_transformation (circuit, q_Bob, message):\n",
    "    \n",
    "    ## Si el mensaje es '00' No se realiza ninguna operación\n",
    "    if (message == '00'):\n",
    "        return circuit\n",
    "    \n",
    "    ## Si el mensaje es '01' se niega el qubit de bob\n",
    "    elif (message == '01'):\n",
    "        circuit.x(q_Bob)\n",
    "        return circuit\n",
    "    \n",
    "    ## Si el mensaje es '10' se agrega una fase relativa de pi al qubit de Bob\n",
    "    elif (message == '10'):\n",
    "        circuit.z(q_Bob)\n",
    "        return circuit\n",
    "    \n",
    "    ## Si el mensaje es '11' se niega y se agrega una fase relativa de pi al qubit de bob\n",
    "    elif (message == '11'):\n",
    "        circuit.z(q_Bob)\n",
    "        circuit.x(q_Bob)\n",
    "        return circuit"
   ]
  },
  {
   "cell_type": "markdown",
   "id": "interior-clone",
   "metadata": {},
   "source": [
    "Ahora definimos una función que nos permite realizar una medición de un estado de Bell entre dos qubits."
   ]
  },
  {
   "cell_type": "code",
   "execution_count": 8,
   "id": "recreational-album",
   "metadata": {},
   "outputs": [],
   "source": [
    "def bell_measurement(circuit, q_Alice, q_Bob, c_Alice, c_Bob):\n",
    "    \n",
    "    ## Acá Alice realiza la medición del estado de Bell para esto lleva los estados a dicha base y realiza la medición\n",
    "    circuit.cx(q_Alice, q_Bob)\n",
    "    circuit.h(q_Alice)\n",
    "    \n",
    "    ## Los resultados que obtenga Alice indicarán El mensaje que le quiso enviar Bob\n",
    "    circuit.barrier()\n",
    "    circuit.measure(q_Alice, c_Alice)\n",
    "    circuit.measure(q_Bob, c_Bob)\n",
    "\n",
    "    return circuit"
   ]
  },
  {
   "cell_type": "markdown",
   "id": "aboriginal-transparency",
   "metadata": {},
   "source": [
    "Ahora iniciamos un circuito y ejecutamos el protocolo"
   ]
  },
  {
   "cell_type": "code",
   "execution_count": 13,
   "id": "western-collar",
   "metadata": {},
   "outputs": [
    {
     "data": {
      "image/png": "[encoded data removed]",
      "text/plain": [
       "<Figure size 714.704x264.88 with 1 Axes>"
      ]
     },
     "execution_count": 13,
     "metadata": {},
     "output_type": "execute_result"
    }
   ],
   "source": [
    "## Inicializamos todo el circuito \n",
    "qubit_Alice = QuantumRegister(1)\n",
    "qubit_Bob = QuantumRegister(1)\n",
    "cr_Alice = ClassicalRegister(1)\n",
    "cr_Bob = ClassicalRegister(1)\n",
    "\n",
    "## Acá ejecutamos el protocolo, primero inicializamos nuestro circuito\n",
    "qc = QuantumCircuit(qubit_Alice, qubit_Bob, cr_Alice, cr_Bob)\n",
    "\n",
    "## Paso 1: Entregamos a Bob y a Alice un par de partículas enrtelazadas\n",
    "entangle_qubits(qc, qubit_Alice, qubit_Bob)\n",
    "qc.barrier()\n",
    "\n",
    "## Paso 2: Bob realiza una una operación de acuerdo al mensaje que desea enviar\n",
    "message = '10'\n",
    "Bob_transformation(qc,  qubit_Bob, message)\n",
    "qc.barrier()\n",
    "\n",
    "## Paso 3: Alice realiza una medición del estado de Bell con el qubit de Bob para ver el mensaje\n",
    "bell_measurement(qc, qubit_Alice, qubit_Bob, cr_Alice, cr_Bob)\n",
    "\n",
    "\n",
    "## El circuito toma la forma\n",
    "qc.draw(output='mpl')"
   ]
  },
  {
   "cell_type": "markdown",
   "id": "stock-cause",
   "metadata": {},
   "source": [
    "Ahora mostramos el histograma de las mediciones que obtuvo Alice."
   ]
  },
  {
   "cell_type": "code",
   "execution_count": 14,
   "id": "convertible-astrology",
   "metadata": {},
   "outputs": [
    {
     "data": {
      "image/png": "[encoded data removed]",
      "text/plain": [
       "<Figure size 504x360 with 1 Axes>"
      ]
     },
     "execution_count": 14,
     "metadata": {},
     "output_type": "execute_result"
    }
   ],
   "source": [
    "## Simulamos el circuito\n",
    "backend = Aer.get_backend('qasm_simulator')\n",
    "counts = execute(qc,backend,shots=10000).result().get_counts()\n",
    "\n",
    "\n",
    "## Mostramos el histograma para el qubit de Bob\n",
    "plot_histogram(counts)"
   ]
  },
  {
   "attachments": {},
   "cell_type": "markdown",
   "id": "smart-chest",
   "metadata": {},
   "source": [
    "Teniendo en cuenta que el qubit de arriba es el de Alice y el de abajo es el de Bob, significa que el resultado que obtuvo Alice es $10$, es decir, es el mensaje que Bob quería enviar.\n",
    "\n",
    "Y ahora ¿Dónde esta la codificación?. Es importante notar que para enviar este mensaje de dos bits Bob **únicamente manípulo un qubit**. Si Bob quisiera enviar este mensaje a Alice, el tendría que manipular 2 bits clásicos, sin embargo, el protocolo muestra cómo Bob puede enviar un mensaje de 2 bits manipulando únicamente un qubit."
   ]
  },
  {
   "cell_type": "markdown",
   "id": "bulgarian-circular",
   "metadata": {},
   "source": [
    "## Referencias\n",
    "\n",
    "* Einstein, Podolsky & Rosen. **Can Quantum-Mechanical Description of Physical Reality Be Considered Complete?**. Phys. Rev. 47, 777, 1935.\n",
    "* Nielsen & Chuang. **Quantum Computation and Quantum Information**. Cambridge University Press, 2010.\n",
    "* Bouwmeester D., Ekert A. & Zeilinger A. **The Physics of Quantum Information**. Springer-Verlag, 2001. \n",
    "* Wilde. **Quantum Information Theory**. Cambridge University Press, 2013.\n",
    "\n",
    "Muchas gracias por leer esta publicación! Abajo se encuentran links a las lecciones siguientes en el Crash Course de QC-FEM."
   ]
  }
 ],
 "metadata": {
  "kernelspec": {
   "display_name": "Python 3",
   "language": "python",
   "name": "python3"
  },
  "language_info": {
   "codemirror_mode": {
    "name": "ipython",
    "version": 3
   },
   "file_extension": ".py",
   "mimetype": "text/x-python",
   "name": "python",
   "nbconvert_exporter": "python",
   "pygments_lexer": "ipython3",
   "version": "3.8.5"
  }
 },
 "nbformat": 4,
 "nbformat_minor": 5
}
