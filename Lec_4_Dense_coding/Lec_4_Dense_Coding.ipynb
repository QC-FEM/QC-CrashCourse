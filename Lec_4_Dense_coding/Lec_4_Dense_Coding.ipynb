{
 "cells": [
  {
   "cell_type": "markdown",
   "id": "clean-ireland",
   "metadata": {},
   "source": [
    "# Lección 4: Protocolo de codificación densa\n",
    "\n",
    "Los estados entrelazados, como lo hemos visto en las sesiones anteriores, permiten realizar cosas bastante interesantes. La propiedad de entrelazamiento entre un par de partículas dio pie para la proposición de diferentes protocolos cuánticos cuyas posibles aplicaciones se exploran aún en la actualidad.\n",
    "\n",
    "En esta lección analizaremos en detalle el protocolo de codificación densa. Este protocolo es posible gracias a las propiedades del entrelazamiento entre dos partículas. \n",
    "\n",
    "Las fuentes de este tipo de partículas las llamaremos fuentes EPR por los autores del artículo *Can Quantum-Mechanical Description of Physical Reality Be Considered Complete?* publicado por Albert Einstein, Boris Podolsky, y Nathan Rosen en 1935 en donde se muestra como el formalismos de la mecánica cuántica permite que un par de partículas compartan esta propiedad de entrelazamiento.\n",
    "\n",
    "**SUPER IMPORTANTE:** En este ejemplo intentaremos presentar al lector cómo simular el protocolo cuántico de teleportación en un computador cuántico. Esta sesiónes está disponible en nuestro servidor de MyBinder.\n",
    "​\n",
    "<p align=\"center\">\n",
    "  <a href=\"https://mybinder.org/v2/gh/QC-FEM/QC-CrashCourse/HEAD\">\n",
    "    <img src=\"https://mybinder.org/badge_logo.svg\">\n",
    "  </a>\n",
    "</p>\n",
    "\n",
    "Como de costumbre realizamos las importaciones necesarias para neustro circuito."
   ]
  },
  {
   "cell_type": "code",
   "execution_count": 1,
   "id": "laughing-preference",
   "metadata": {},
   "outputs": [],
   "source": [
    "from qiskit import QuantumRegister, ClassicalRegister\n",
    "from qiskit import QuantumCircuit, execute, Aer\n",
    "from qiskit.visualization import plot_histogram,state_visualization\n",
    "from qiskit.quantum_info.operators import Operator\n",
    "import matplotlib.pyplot as plt\n",
    "import numpy as np"
   ]
  },
  {
   "cell_type": "code",
   "execution_count": null,
   "id": "genuine-governor",
   "metadata": {},
   "outputs": [],
   "source": []
  }
 ],
 "metadata": {
  "kernelspec": {
   "display_name": "Python 3",
   "language": "python",
   "name": "python3"
  },
  "language_info": {
   "codemirror_mode": {
    "name": "ipython",
    "version": 3
   },
   "file_extension": ".py",
   "mimetype": "text/x-python",
   "name": "python",
   "nbconvert_exporter": "python",
   "pygments_lexer": "ipython3",
   "version": "3.8.5"
  }
 },
 "nbformat": 4,
 "nbformat_minor": 5
}
