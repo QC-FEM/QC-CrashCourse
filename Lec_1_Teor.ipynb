{
 "cells": [
  {
   "cell_type": "markdown",
   "metadata": {},
   "source": [
    "# Lección 1: Computación reversible y modelo de circuitos\n",
    "\n",
    "Antes de adentrarnos en las nociones fundamentales de computación cuántica, vamos a revisar las ideas fundamentales de las ciencias de la computación. En particular, discutiremos el *modelo de computación de circuitos clásico*, y enfatizaremos en la importancia de la *computación reversible*. Esta lección es eminentemente teórica, sin embargo, puede ser tratada interactivamente en nuestro entorno de ejecución en MyBinder.\n",
    "\n",
    "---\n",
    "\n",
    "Para ilustrar la computación reversible, vamos a utilizar el paquete de Python *Qiskit*, desarrollado por IBM. El lector puede experimentar interactivamente en esta lección por medio de nuestro entorno virtual alojado en MyBinder. Solo debe hacer click en el siguiente botón.\n",
    "\n",
    "[![Binder](https://mybinder.org/badge_logo.svg)](https://mybinder.org/v2/gh/DiegoHerrera262/QuantumComputing/master)\n",
    "\n",
    "**NOTA:** Si el lector se encuentra examinando esta lección en nuestro servidor, debe ejecutar los siguientes comandos. En el ejemplo práctico explicaremos qué significan. En este punto, lo importante es la esencia conceptual. Recomendamos leer enteramente el post y luego experimentar con él interactivamente.\n",
    "\n",
    "Este paquete se importa como cualquier otro paquete de Python. Por el momento, tan solo utilizaremos las funciones\n",
    "\n",
    "* ```QuantumCircuit```: Permite declarar un circuito cuántico. Para efectos de esta lección, puede imaginarse que los bits de los circuitos corresponden a bits clásicos.\n",
    "* ```QuantumRegister```: Permite declarar un registro cuántico. Para efectos de esta lección, puede imaginarse que los bits de estos registros son clásicos.\n",
    "---"
   ]
  },
  {
   "cell_type": "code",
   "execution_count": 4,
   "metadata": {},
   "outputs": [],
   "source": [
    "from qiskit import QuantumCircuit, QuantumRegister, ClassicalRegister"
   ]
  },
  {
   "cell_type": "markdown",
   "metadata": {},
   "source": [
    "## Modelo de computación de circuitos\n",
    "\n",
    "Un modelo de computación es un marco matemático preciso que permite condensar la noción de **algoritmo**. En computación clásica, existen dos modelos de computación de gran utilidad: **máquinas de Turing** y **circuitos lógicos**. Discutiremos brevemente el modelo de máquinas de Turing para introducir las **tesis fundamentales de Turing y Church**, y así motivar desde un punto de vista formal la necesidad de la computación cuántica. También introduciremos el modelo de circuitos lógicos y el uso de compuertas lógicas para calcular *funciones computables*.\n",
    "\n",
    "### Máquinas de Turing\n",
    "\n",
    "Si bien todos los estudiantes de ciencias de la computación pueden estar familiarizados con las temáticas de estas sección, proponemos una breve introducción para aquellos que provienen de contextos más enfocados hacia las ciencias físicas. Una máquina de Turing es un dispositivo compuesto por\n",
    "\n",
    "1. Una **cinta infinita** con celdas donde se pueden escribir **símbolos** de un **alfabeto** definido\n",
    "1. una **cabeza lectora móvil** capaz de leer y escribir símbolos en las celdas de la cinta.\n",
    "1. Un **sistema de control** capaz de encontrase en un **estado** dentro de un un **conjunto de estados finitos**.\n",
    "1. Un **programa** que determina las acciones que debe realizar la máquina según:\n",
    "    * El estado actual del sistema de control\n",
    "    * el símbolo que encuentre la cabeza lectora en la celda de la cinta a la que apunte.\n",
    "    \n",
    "Presentamos una representación gráfica de una máquina de Turing\n",
    "\n",
    "![png](images/turingMach.png)\n",
    "\n",
    "Como apuntan Nielsen y Chuang, esta máquina parece un computador primitivo en el cual la cinta hace el papel de la memoria, el sistema de control es como el procesador, y el programa es un primitiva versión de un lenguaje de programación, como Python. De acuerdo con las instrucciones del programa:\n",
    "\n",
    "1. El sistema de control hace que la cabeza escriba un nuevo símbolo en la celda a la que apunta\n",
    "1. El sistema de control hace que la cabeza se mueva hacia la izquierda (<-) o hacia la derecha (->)\n",
    "1. El sistema de control cambia su estado.\n",
    "\n",
    "Una instrucción de un programa para una máquina de Turing es de la forma $(Q_i,S_i) \\rightarrow (Q_j,S_j,M)$, donde $Q$ denota un estado del sistema de control; $S$, un símbolo del alfabeto permitido; $M$ un movimiento de la cabeza permitido. Existe un estado especial denominado *estado de parada*, en el cual la máquina finaliza un cómputo. Si el lector desea experimentar más con máquinas de Turing, le remitimos a la excelente página de [Martin Utergate](https://turingmachinesimulator.com), donde podrá experimentar con un simulador online.\n",
    "\n",
    "Siempre es posible simular una máquina de Turing utilizando una llamada **Máquina de Turing Universal**. Simplemente necesitamos encontrar una manera de *codificar* el programa de una máquina de Turing a simular, así como su alfabeto, de una manera que la Máquina de Turing Universal lo pueda entender y replicar. Esto se logra por medio de la definición del *número de Turing* de una máquina. Los detalles sobre este ingenioso algoritmo para definir una máquina de Turing Universal no se discuten en esta lección. Sin embargo, si apuntamos que las máquinas de Turing no tienen un alcance límitado dentro de su clase.\n",
    "\n",
    ">La importancia de las máquinas de Turing es que pueden utilizarse para calcular cualquier función que pudiera ser considerada como computable por medio de un algoritmo. Esta afirmación se conoce como **la tesis de Church-Turing**.\n",
    "\n",
    "La tesis de Curch-Turing establece que cualquier dispositivo físico puede ser simulado por un aparato con la arquitectura de una máquina de Turing. Incluso si este es un procesador cuántico. \n",
    "\n",
    ">En computación, la máquina de Turing es el modelo por excelencia que permite determinar si un problema puede ser resuelto por un computador físico o no.\n",
    "\n",
    "### Modelo de circuitos lógicos\n",
    "\n",
    "Este modelo de computación es equivalente al modelo de Máquina de Turing, sin embargo, se encuentra más cerca de la forma como los procesadores electrónicos actuales realizan cómputos.\n",
    "\n",
    ">Un **circuito** está hecho de *cables* y *compuertas*. Los cables pueden encontrarse en alguno de dos estados posibles, notados genéricamente como 0 y 1. Por tanto, un cable codifica 1 **bit** de información. Las compuertas realizan operaciones lógicas sobre uno o varios cables, y permiten realizar cómputos.\n",
    "\n",
    "Podemos pensar en un circuito como un dispositivo capaz de computar una función. Esta función se define dentro del espacio de cadenas binarias (cadenas de 0's y 1's) de longitud $n$ arbitrario, al espacio de cadenas binarias de longitud $l$ arbitraria. Matemáticamente, se dice que un circuito lógico computa una función binaria de la forma\n",
    "\n",
    "$$f: \\{0,1\\}^{n} \\rightarrow \\{0,1\\}^l$$\n",
    "\n",
    "Donde $\\{0,1\\}^{n}$ el conjunto de todas las cadenas binarias de longitud $n$. Se dirá que estas cadenas son *de $n$ bits*. Por ejemplo, la cadena *1011* es una cadena binaria de 4 bits. Otra forma de notar este tipo de cadenas en forma genérica, y que se empleará en esta serie es\n",
    "\n",
    "$$q_0q_1q_2 \\cdots q_n$$\n",
    "\n",
    "Donde $q_i$ denota el estado del $i$-ésimo bit de la cadena. Siguiendo con el ejemplo anterior, $q_2 = 1$. Las compuertas lógicas se usan para modifical el valor de los cables o bits de un circuito, con el fin de calcular una función binaria. Las compuertas más famosas son conocidas por todo amante de la lógica simbólica o el álgebra booleana. Se reproducen a continuación.\n",
    "\n",
    "![png](images/logicGates.png)\n",
    "\n",
    "Las compuertas AND y OR se denotan por símbolos especiales: $\\land$ y $\\lor$ respectivamente.\n",
    "\n",
    "Estas compuertas son de la forma $f: \\{0,1\\}^{1} \\rightarrow \\{0,1\\}^{1}$, excepto NOT. Otra compuerta importante es la COPY o FANOUT, que genera un caopia de un bit de un circuito:\n",
    "\n",
    "$$\\text{FANOUT}: q \\rightarrow q,q$$\n",
    "\n",
    "Esta no tiene una representación tan vistosa como las otras, pues consiste en desprender un cable de otro. Creemos que el lector puede imaginarse esta representación. \n",
    "\n",
    ">Las compuertas anteriores pueden utilizarase para computar cualquier función binaria. La prueba de este hecho requiere un *pensamiento recursivo*. El lector que desee una pista para convencerse de esta afirmación, puede consultar el libro de Nielsen y Chuang en computación cuántica.\n",
    "\n",
    "Aquí, por ejemplo, incluimos un circuito que permite sumar dos números de un bit.\n",
    "\n",
    "![png](images/bitAdder.png)\n",
    "\n",
    "En muchos casos, para computar una función binaria es necesario utilizar cables o bits adicionales. Estos se denominan **bits de ancila**. Serán de particular importancia cuando discutamos la computación reversible.\n",
    "\n",
    "**NOTA:** Un conjunto particular de cables o bits de un circuito suele denominarse genéricamente como *registro*. Así, por ejemplo, un conjunto de bits de ancila puede denominarse registro de ancila; o el conjunto de bits donde se registra la entrada de un programa puede denominarse registro de entrada.\n",
    "\n",
    "### Complejidad computacional\n",
    "\n",
    "Como apuntan Nielsen y Chuang, el análisis de un problema computacional depende de al menos 3 preguntas principales:\n",
    "\n",
    "1. ¿Qué es un problema computacional?\n",
    "1. ¿Cómo podemos diseñar un algoritmo para resolver un problema?\n",
    "1. ¿Cuáles son los recursos mínimos requeridos para resolver un problema computacional?\n",
    "\n",
    "Como primera aproximación, un científico de la computación se enfoca en el estudio de problemas que sean **decidibles**. Estos son problemas formulables como una pregunta tipo sí/no en sus entradas. Por ejemplo, el problema de determinar si una cadena binaria es palíndroma o no, es un problema decidible. El diseño de un algoritmo para resolver un problema decidible está marcado por la creatividad y el esfuerzo de muchos científicos e ingenieros. Los recursos que emplean estos algoritmos son cuantificados en términos de **tiempo** de ejecución, **espacio** de almacenamiento requerido, y **energía** empleada por un dispositivo físico para lelvar al cabo el algoritmo.\n",
    "\n",
    ">La cantidad de recursos que necesita un circuito se mide en términos del número de bits que necesita (*espacio*), la profundidad o número de compuertas del circuito (*tiempo*) y la energía que necesita algún dispositivo (electrónico) para llevarlo a cabo.\n",
    "\n",
    "La complejidad de un circuito depende del *tamaño de las cadenas* que recibe como entrada. Cuanto más grande la cadena, mayor es el número de recursos que necesita.\n",
    "\n",
    ">Los recursos de los que dispone un algoritmo son limitados. Simpre es necesario hacer un compromiso entre energía, espacio y tiempo para tener una eficiencia óptima.\n",
    "\n",
    "Los problemas denominados **tratables**, son aquellos en los que la cantidad de recursos que necesita un algoritmo para su ejecución no escala más rápidamente que una función polínomica del tamaño de las cadenas que recibe de entrada. Estos problemas pueden ser, por ejemplo, el ordenamiento de un arreglo, o la solución de un sistema de ecuaciones lineales, y se dice que son *eficientemente solubles*. De los muchos modelos de computación que se pueden proponer, una variación del modelo de máquina de Turing es considerado como el referente en eficiencia para la computación clásica. Este es el de máquinas de Turing probabilísticas, en la cual la ejecución de una instrucción de un programa depende \"*del lanzamiento de una moneda*\".\n",
    "\n",
    "> La **Tesis Fuerte de Church-Turing** establece que cualquier modelo de computación puede ser simulado eficientemente por una máquina de Turing probabilística.\n",
    "\n",
    "**IMPORTANTE:** Desde una perspectiva teórica, una de las motivaciones del cómputo por medio de sistemas cuánticos es que este puede representar un desafío para la tesis fuerte de Church-Turing. Es decir, que un porcesador cuántico puede resolver eficientemente problemas intratables con un sistema clásico.\n",
    "\n",
    "## Computación reversible\n",
    "\n",
    "Si bien es posible que el lector haya corrido un programa en su computador, tal vez en Python, es rara la ocasión en la que se ha preguntado por la intensidad de corriente que fluye a través del mismo cuando se encuentra procesando información. Es aún menos probable que haya reparado en la cantidad de energía que consume su computador cuando está realizando una tarea. Tal vez se ha cuestionado por qué la cuenta de la electricidad ha aumentado durante un periodo de tiempo dado. Landauer es uno de aquellos extraños individuos que se ha preguntado seriamente cuál es el costo energético de realizar un cómputo.\n",
    "\n",
    ">El principio de Landauer establece que el coste energético de borrar un bit de información es al menos $k_B T \\ln{2}$ unidades de energía. En español, esto significa que el coste de borrar un bit de información es porporcional a la temperatura a la cual se encuentra el procesador.\n",
    "\n",
    "Por tanto, la manera más óptima, en términos de energía, para realizar un cómputo, es no borrar nunca un bit de información. En tal caso, la energía empleada sería nula. Pero, si es necesario procesar una cadena de bits para obtener una salida, ¿cómo podemos realizar este límite teórico ideal? La respuesta es que debemos realizar los cómputos reversiblemente. Esto suena familiar para los físicos que han visto algo de termodinámica. Vagamente, significa que al finalizar el cómputo, el estado de la cadena modificada debe ser igual al estado inicial, y que todos los cambios deben realizarse por medio de transformaciones muy lentas, que no involucren disipasión de calor. Para un científico de la computación, basta decir que las funciones computadas deben ser *invertibles*. Una computación reversible debe necesariamente computar una función binaria de la forma\n",
    "\n",
    "$$f:\\{0,1\\}^{m} \\rightarrow \\{0,1\\}^{m}$$\n",
    "\n",
    "Como veremos a continuación, cualquier función puede ser computada reversiblemente con la ayuda de bits de ancila. Para ello, discutiremos algunas compuertas reversibles famosas, y cómo podemos utilizar bits de ancila para simular AND, OR, y FANOUT.\n",
    "\n",
    "**IMPORTANTE:** El lector debe realizar que la compuerta NOT es reversible.\n",
    "\n",
    "### Compuertas reversibles\n",
    "\n",
    "Adelantamos que la computación cuántica es por naturaleza reversible. El modelo de circuitos cuánticos difiere fundamentalmente de un modelo de circuitos de computación reversible en que los cables representan **bits cuánticos**. En esta etapa no entraremos sobre las implicaciones del uso de **bits cuánticos o qubits** en un circuito. \n",
    "\n",
    ">Por el momento, es suficiente con reconocer que el modelo de cómputo por medio de circuitos reversibles es un caso particular del modelo de computación cuántica.\n",
    "\n",
    "**IMPORTANTE:** Por convención, el estado inicial de los todos bits en un circuito lógico es 0. Así, antes de realizar cualquier cómputo, es posible asumir que el valor de bit de un cable en un circuito lógico es 0.\n",
    "\n",
    "Por convención, denotaremos la acción de una compuerta $A$ sobre un registro con bits $q_0 \\cdots q_n$ con $A(q_0 \\cdots q_n) = q'_0 \\cdots q'_n$.\n",
    "\n",
    "#### Compuerta NOT\n",
    "\n",
    "Esta compuerta ya la hemos visto anteriormente. Presentamos las líneas de código necesarias para utilizar esta compuerta con *Qiskit*.\n",
    "\n",
    "**NOTA:** En computación cuántica, la compuerta NOT se denota con $X$"
   ]
  },
  {
   "cell_type": "code",
   "execution_count": 13,
   "metadata": {},
   "outputs": [
    {
     "data": {
      "image/png": "[encoded data removed]",
      "text/plain": [
       "<Figure size 187.706x84.28 with 1 Axes>"
      ]
     },
     "execution_count": 13,
     "metadata": {},
     "output_type": "execute_result"
    }
   ],
   "source": [
    "## La compuerta actúa sobre un registro de un bit\n",
    "registro = QuantumRegister(1,name='q')\n",
    "## Debemos inicializar nuestro circuito con el registro\n",
    "circuito = QuantumCircuit(registro)\n",
    "## Insertamos una compuerta SWAP en el circuito\n",
    "circuito.x(registro)\n",
    "## Dibujamos el circuito\n",
    "circuito.draw(output='mpl')"
   ]
  },
  {
   "cell_type": "markdown",
   "metadata": {},
   "source": [
    "#### Compuerta SWAP\n",
    "\n",
    "Esta compuerta intercambia el valor del bit de dos cables. Para usarla en *Qsikit* se deben ejecutar los siguientes comandos."
   ]
  },
  {
   "cell_type": "code",
   "execution_count": 14,
   "metadata": {},
   "outputs": [
    {
     "data": {
      "image/png": "[encoded data removed]",
      "text/plain": [
       "<Figure size 200.832x144.48 with 1 Axes>"
      ]
     },
     "execution_count": 14,
     "metadata": {},
     "output_type": "execute_result"
    }
   ],
   "source": [
    "## La compuerta actúa sobre un registro de dos bits\n",
    "registro = QuantumRegister(2,name='q')\n",
    "## Debemos inicializar nuestro circuito con el registro\n",
    "circuito = QuantumCircuit(registro)\n",
    "## Insertamos una compuerta SWAP en el circuito\n",
    "## Los bits de un registro se acceden como los elementos de una lista en Python\n",
    "## ingresamos los bits en orden: bit1, bit2\n",
    "circuito.swap(registro[0],registro[1])\n",
    "## Dibujamos el circuito\n",
    "circuito.draw(output='mpl')"
   ]
  },
  {
   "cell_type": "markdown",
   "metadata": {},
   "source": [
    "La acción de esta compuerta se resume con\n",
    "\n",
    "$$\\text{SWAP}(q_0q_1) = q_1q_0$$\n",
    "\n",
    "#### Compuerta de Fredkin o CSWAP\n",
    "\n",
    "Esta es una compuerta de tres bits. Se constituye por un bit denominado control ($q_0$), y un par de bits denominados objetivos ($q_1$ y $q_2$). La acción de una compuerta de Fredkin se resume de la siguiente forma\n",
    "\n",
    "$$\\text{CSWAP}(q_0q_1q_2) = \\begin{cases}q_0q_1q_2 & q_0 = 0 \\\\ q_0q_2q_1 & q_0 = 1\\end{cases}$$\n",
    "\n",
    "Nótese que la compuerta es equivalente a una aplicación de la compuerta SWAP sobre los bits objetivo si el bit de control está en estado 1. En caso contrario, no se realiza ninguna transformación a la cadena. \n",
    "\n",
    ">Esta compuerta es de vital importancia puesto que es suficiente para computar cualquier función binaria reversible. La prueba de este hecho puede encontrarse en los libros de Nielsen y Chuang o Beneti, Casati y Strini.\n",
    "\n",
    "Presentamos al lector la forma de utilizar la compuerta CSWAP con *Qiskit*."
   ]
  },
  {
   "cell_type": "code",
   "execution_count": 11,
   "metadata": {},
   "outputs": [
    {
     "data": {
      "image/png": "[encoded data removed]",
      "text/plain": [
       "<Figure size 200.977x204.68 with 1 Axes>"
      ]
     },
     "execution_count": 11,
     "metadata": {},
     "output_type": "execute_result"
    }
   ],
   "source": [
    "## La compuerta actúa sobre un registro de tres bits\n",
    "registro = QuantumRegister(3,name='q')\n",
    "## Debemos inicializar nuestro circuito con el registro\n",
    "circuito = QuantumCircuit(registro)\n",
    "## Insertamos una compuerta SWAP en el circuito\n",
    "## el bit de un registro se accede como un elemento de una lista en Python\n",
    "## bit de control: registro[0]\n",
    "## bits de objetivo: registro[1], registro[2]\n",
    "## Insertamos los bits en el orden: control, objetivo1, objetivo2\n",
    "circuito.cswap(registro[0],registro[1],registro[2])\n",
    "## Dibujamos el circuito\n",
    "circuito.draw(output='mpl')"
   ]
  },
  {
   "cell_type": "markdown",
   "metadata": {},
   "source": [
    "Y también una forma de simular la compuerta OR. Si el registro a la entrada tiene la cadena $q_0q_1q_2$, con $q_2 = 1$, entonces la cadena de salida $\\text{CSWAP}(q_0q_1q_2) = q'_0q'_1q'_2$ es tal que $q'_1 = q_0 \\lor q_1$. ¿Puede el lector inferir qué función se computa en el bit $q'_2$?"
   ]
  },
  {
   "cell_type": "code",
   "execution_count": 12,
   "metadata": {},
   "outputs": [
    {
     "data": {
      "image/png": "[encoded data removed]",
      "text/plain": [
       "<Figure size 261.177x204.68 with 1 Axes>"
      ]
     },
     "execution_count": 12,
     "metadata": {},
     "output_type": "execute_result"
    }
   ],
   "source": [
    "## Circuito para simular una compuerta OR por medio de una compuerta CSWAP\n",
    "## La compuerta actúa sobre un registro de tres bits\n",
    "registro = QuantumRegister(3,name='q')\n",
    "## Debemos inicializar nuestro circuito con el registro\n",
    "circuito = QuantumCircuit(registro)\n",
    "## Debemos voltear el valor del bit q_2 pues por defecto se inicializa en 0\n",
    "circuito.x(registro[2])\n",
    "## Insertamos una compuerta SWAP en el circuito\n",
    "circuito.cswap(registro[0],registro[1],registro[2])\n",
    "## Dibujamos el circuito\n",
    "circuito.draw(output='mpl')"
   ]
  },
  {
   "cell_type": "markdown",
   "metadata": {},
   "source": [
    "#### Compuerta CNOT\n",
    "\n",
    "Al igual que la compuerta de Fredkin, la compuerta CNOT es una compuerta controlada que actúa sobre 2 bits: un bit de control, y otro objetivo. Si el bit de control se denota por $q_0$, y el de objetivo por $q_1$, entonces\n",
    "\n",
    "$$\\text{CNOT}(q_0q_1) = \\begin{cases}q_0q_1 & q_0 = 0 \\\\ q_0, \\text{NOT } q_1 & q_0 = 1\\end{cases}$$\n",
    "\n",
    "Es decir, si el bit de control se encuentra en estado 1, se aplica una compuerta NOT sobre el bit de objetivo. Presentamos las líneas de código que permiten utilizar una compuerta CNOT con *Qiskit*.\n",
    "\n",
    "**SUPER IMPORTANTE:** La acción de una compuerta CNOT se resume por la acción $\\text{CNOT}(q_0q_1) = q'_0q'_1$ donde $q'_0 = q_0$ y $q'_1 = q_0 \\oplus q_1$. Siendo equivalente $q_0 \\oplus q_1$ a $q_0$ XOR $q_1$. Por esto también se conoce como *XOR reversible*"
   ]
  },
  {
   "cell_type": "code",
   "execution_count": 16,
   "metadata": {},
   "outputs": [
    {
     "data": {
      "image/png": "[encoded data removed]",
      "text/plain": [
       "<Figure size 200.832x144.48 with 1 Axes>"
      ]
     },
     "execution_count": 16,
     "metadata": {},
     "output_type": "execute_result"
    }
   ],
   "source": [
    "## La compuerta actúa sobre un registro de dos bits\n",
    "registro = QuantumRegister(2,name='q')\n",
    "## Debemos inicializar nuestro circuito con el registro\n",
    "circuito = QuantumCircuit(registro)\n",
    "## Insertamos una compuerta SWAP en el circuito\n",
    "## bit de control: registro[0]\n",
    "## bit objetivo: registro[1]\n",
    "circuito.cx(registro[0],registro[1])\n",
    "## Dibujamos el circuito\n",
    "circuito.draw(output='mpl')"
   ]
  },
  {
   "cell_type": "markdown",
   "metadata": {},
   "source": [
    "La compuerta CNOT nos permite copiar el valor del bit $q_0$ en el bit $q_1$, siempre que este último se inicialice con el valor 0. Este principio será de gran importancia más adelante.\n",
    "\n",
    "### Compuerta Toffoli\n",
    "\n",
    "Esta es una compuerta cuya acción se resume como una compuerta CNOT controlada. Por ello también suele denotarse como CCNOT. Su acción se resume por\n",
    "\n",
    "$$\\text{CCNOT}(q_0q_1q_2) = \\begin{cases}q_0q_1q_2 & q_0 = 0 \\\\ q_0, \\text{CNOT} (q_1,q_2) & q_0 = 1\\end{cases}$$\n",
    "\n",
    "**IMPORTANTE:** Se deja como ejercicio al lector demostrar que la acción de la compuerta Toffoli puede resumirse por $CCNOT(q_0q_1q_2) = q'_0q'_1q'_2$ con $q'_0 = q_0$, $q'_1=q_1$ y \n",
    "\n",
    "$$q'_2 = q_2 \\oplus q_0q_1$$\n",
    "\n",
    "Donde $q_0q_1$ equivale a $q_0$ AND $q_1$. Es por esto que la compuerta Toffoli tambien suele denominarse como AND reversible.\n",
    "\n",
    "Se dice que los bits $q_0$ y $q_1$ son los bits de control, mientra que $q_2$ es el bit objetivo. A copntinuación presentamos las líneas de código que permiten utilizar la copuerta Toffoli dentro del paquete *Qiskit*."
   ]
  },
  {
   "cell_type": "code",
   "execution_count": 18,
   "metadata": {},
   "outputs": [
    {
     "data": {
      "image/png": "[encoded data removed]",
      "text/plain": [
       "<Figure size 200.977x204.68 with 1 Axes>"
      ]
     },
     "execution_count": 18,
     "metadata": {},
     "output_type": "execute_result"
    }
   ],
   "source": [
    "## La compuerta actúa sobre un registro de tres bits\n",
    "registro = QuantumRegister(3,name='q')\n",
    "## Debemos inicializar nuestro circuito con el registro\n",
    "circuito = QuantumCircuit(registro)\n",
    "## Insertamos una compuerta CCNOT en el circuito\n",
    "## el bit de un registro se accede como un elemento de una lista en Python\n",
    "## bits de control: registro[0], registro[1]\n",
    "## bits de objetivo: registro[2]\n",
    "## Insertamos los bits en el orden: control1, control2, objetivo\n",
    "circuito.ccx(registro[0],registro[1],registro[2])\n",
    "## Dibujamos el circuito\n",
    "circuito.draw(output='mpl')"
   ]
  },
  {
   "cell_type": "markdown",
   "metadata": {},
   "source": [
    "Estamos capacitados para estudiar un ejemplo sencillo. Supongamos que deseamos computar la función\n",
    "\n",
    "$$f: q_0q_1q_2q_3 \\rightarrow q_0 \\land q_1 \\land q_2 \\land q_3$$"
   ]
  }
 ],
 "metadata": {
  "kernelspec": {
   "display_name": "Python 3",
   "language": "python",
   "name": "python3"
  },
  "language_info": {
   "codemirror_mode": {
    "name": "ipython",
    "version": 3
   },
   "file_extension": ".py",
   "mimetype": "text/x-python",
   "name": "python",
   "nbconvert_exporter": "python",
   "pygments_lexer": "ipython3",
   "version": "3.8.3"
  }
 },
 "nbformat": 4,
 "nbformat_minor": 2
}
