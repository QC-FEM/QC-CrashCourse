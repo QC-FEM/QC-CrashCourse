{
 "cells": [
  {
   "cell_type": "markdown",
   "id": "posted-flood",
   "metadata": {},
   "source": [
    "# Lección 4: Protocolo de teleportación\n",
    "\n",
    "Los estados entrelazados, como lo hemos visto en las sesiones anteriores, permiten realizar cosas bastante interesantes. La propiedad de entrelazamiento entre un par de partículas dio pie para la proposición de diferentes protocolos cuánticos cuyas posibles aplicaciones se exploran aún en la actualidad.\n",
    "\n",
    "En esta lección analizaremos en detalle el protocolo de teleportación. Este protocolo es posible gracias a las propiedades del entrelazamiento entre dos partículas. \n",
    "\n",
    "Las fuentes de este tipo de partículas las llamaremos fuentes EPR por los autores del artículo *Can Quantum-Mechanical Description of Physical Reality Be Considered Complete?* publicado por Albert Einstein, Boris Podolsky, y Nathan Rosen en 1935 en donde se muestra como el formalismos de la mecánica cuántica permite que un par de partículas compartan esta propiedad de entrelazamiento.\n",
    "\n",
    "**SUPER IMPORTANTE:** En este ejemplo intentaremos presentar al lector cómo simular el protocolo cuántico de teleportación en un computador cuántico. Esta sesiónes está disponible en nuestro servidor de MyBinder.\n",
    "​\n",
    "<p align=\"center\">\n",
    "  <a href=\"https://mybinder.org/v2/gh/QC-FEM/QC-CrashCourse/HEAD\">\n",
    "    <img src=\"https://mybinder.org/badge_logo.svg\">\n",
    "  </a>\n",
    "</p>\n",
    "\n",
    "Como de costumbre realizamos las importaciones necesarias para neustro circuito."
   ]
  },
  {
   "cell_type": "code",
   "execution_count": 1,
   "id": "wound-silver",
   "metadata": {},
   "outputs": [],
   "source": [
    "from qiskit import QuantumRegister, ClassicalRegister\n",
    "from qiskit import QuantumCircuit, execute, Aer\n",
    "from qiskit.visualization import plot_histogram,state_visualization\n",
    "from qiskit.quantum_info.operators import Operator\n",
    "import matplotlib.pyplot as plt\n",
    "import numpy as np"
   ]
  },
  {
   "cell_type": "markdown",
   "id": "behavioral-valuable",
   "metadata": {},
   "source": [
    "El protocolo de teleportación sigue el siquiente esquema y se puede ver resumido en 3 pasos.\n",
    "<img src=\"Lec_4_Teleportacion_files/QTP.png\" alt=\"drawing\" width=\"500\"/>\n",
    "\n",
    "- Paso 1: Una fuente EPR, la cual es una fuente de partículas entrelazadas, entrega un par de partículas entrelazadas a Alice y Bob. A la partícula de Alice la llamamos $A$ y a la partícula de Bob la llamamos $B$. Estas partículas deben estar entrelazadas en un estado de Bell, en este ejemplo partícular elegimos el estado de la forma $|\\Phi^{+}\\rangle_{AB} = \\frac{1}{\\sqrt{2}}|00\\rangle + \\frac{1}{\\sqrt{2}} |11\\rangle$.\n",
    "- Paso 2: Entonces, en este protocolo Alice desea a teleportar a Bob el estado de una partícula $A'$ que se encuentra en un estado arbitrario $|\\psi\\rangle_{A'} = \\alpha|0\\rangle + \\beta|1\\rangle$. Una vez Alice recibe su partícula $A$ esta prepara un estado entrelazado conjunto entre las tres parttículas que tiene la forma $|\\Psi\\rangle_{A'AB} =|\\psi\\rangle_{A'} \\otimes |\\Phi^{+}\\rangle_{AB}$. Lo anterior se debe a que el estado total de un sistema cuántico compuesto por más de una partícula se escribe en términos del producto de Kronecker entre los estados de las partículas individuales. Como Alice ya tiene el estado total, ella realiza una medición sobre las partículas $A$ y $A'$ en la base de Bell para saber en cual estado de esta base se encuentra el par de partículas.\n",
    "- Paso 3: Alice tiene que comunicar a Bob el resultado de su medición, esto lo tiene que hacer a través de un *canal clásico*, es decir, a traves de una llamada, un correo, un mensaje de texto o algo similar. Una vez bob recibe esta información, realiza las operaciones unitarias necesarias sobre su partícula para que esta quede en el estado inicial de la partícula $A'$, es decir, la partícula de Bob al final terminará en el estado $|\\psi\\rangle_B = \\alpha|0\\rangle + \\beta |1\\rangle$."
   ]
  },
  {
   "cell_type": "markdown",
   "id": "fossil-atlantic",
   "metadata": {},
   "source": [
    "Para realizar el protocolo definimos algunas funciones auxiliares. La función `initialize_qubit` inicializa el qubit que vamos a teleportar desde Alice hasta Bob. En este caso, este estará en el estado\n",
    "\n",
    "\n",
    "$$|\\psi\\rangle_{A'} = \\sqrt{\\frac{1}{4}}|0\\rangle + \\sqrt{\\frac{3}{4}}|1\\rangle$$\n"
   ]
  },
  {
   "cell_type": "code",
   "execution_count": 2,
   "id": "automotive-phoenix",
   "metadata": {},
   "outputs": [],
   "source": [
    "def initialize_qubit(circuit, qubit_index):\n",
    "    \n",
    "    ## Inicialización del qubit a teleportar\n",
    "    a= [np.sqrt(0.25),np.sqrt(0.75)]\n",
    "    circuit.initialize(a,qubit_index)\n",
    "        \n",
    "   \n",
    "    return circuit"
   ]
  },
  {
   "cell_type": "code",
   "execution_count": 3,
   "id": "advanced-cancellation",
   "metadata": {},
   "outputs": [
    {
     "data": {
      "image/png": "[encoded data removed]",
      "text/plain": [
       "<Figure size 266.907x144.48 with 1 Axes>"
      ]
     },
     "execution_count": 3,
     "metadata": {},
     "output_type": "execute_result"
    }
   ],
   "source": [
    "## Inicializamos todo el circuito \n",
    "qubit_Teleported = QuantumRegister(1)\n",
    "cr_qt = ClassicalRegister(1)\n",
    "\n",
    "qc = QuantumCircuit(qubit_Teleported,cr_qt)\n",
    "initialize_qubit(qc, 0)\n",
    "\n",
    "qc.measure(qubit_Teleported,cr_qt)\n",
    "\n",
    "qc.draw(output='mpl')\n"
   ]
  },
  {
   "cell_type": "code",
   "execution_count": 4,
   "id": "dying-devon",
   "metadata": {},
   "outputs": [
    {
     "data": {
      "image/png": "[encoded data removed]",
      "text/plain": [
       "<Figure size 504x360 with 1 Axes>"
      ]
     },
     "execution_count": 4,
     "metadata": {},
     "output_type": "execute_result"
    }
   ],
   "source": [
    "backend = Aer.get_backend('qasm_simulator')\n",
    "counts = execute(qc,backend,shots=10000).result().get_counts()\n",
    "plot_histogram(counts)"
   ]
  },
  {
   "cell_type": "markdown",
   "id": "demanding-night",
   "metadata": {},
   "source": [
    "Ahora realizamos preparamos el par de partículas entrelazadas que comparten Alice y Bob, en este caso particular estas van a estar en el estado \n",
    "\n",
    "$$|\\Phi^+\\rangle_{AB} = \\frac{1}{\\sqrt{2}}|00\\rangle + \\frac{1}{\\sqrt{2}} |11\\rangle.$$\n",
    "\n",
    "Para mostrar en qué estado está esta partícula iniciamos un registro con esta función y visualizaremos su histograma"
   ]
  },
  {
   "cell_type": "code",
   "execution_count": 5,
   "id": "incomplete-delicious",
   "metadata": {},
   "outputs": [],
   "source": [
    "def entangle_qubits(circuit, q_Alice, q_Bob):\n",
    "    \n",
    "    ## Entrelazamos el primer par de qubits en un estado de Bell\n",
    "    circuit.h(q_Alice)                 ## Hadamard sobre el qubit de Alice\n",
    "    circuit.cx(q_Alice,q_Bob)          ## CNOT para entrelazar los qubits de Alice y Bob\n",
    "     \n",
    "    \n",
    "    return circuit"
   ]
  },
  {
   "cell_type": "code",
   "execution_count": 6,
   "id": "functional-question",
   "metadata": {},
   "outputs": [
    {
     "data": {
      "image/png": "[encoded data removed]",
      "text/plain": [
       "<Figure size 340.378x264.88 with 1 Axes>"
      ]
     },
     "execution_count": 6,
     "metadata": {},
     "output_type": "execute_result"
    }
   ],
   "source": [
    "## Inicializamos todo el circuito \n",
    "qubit_Alice = QuantumRegister(1)\n",
    "qubit_Bob = QuantumRegister(1)\n",
    "cr_Alice = ClassicalRegister(1)\n",
    "cr_Bob = ClassicalRegister(1)\n",
    "\n",
    "qc_EPR = QuantumCircuit(qubit_Alice,qubit_Bob,cr_Alice,cr_Bob)\n",
    "\n",
    "## Realizamos el entrelazamiento\n",
    "entangle_qubits(qc_EPR,0,1)\n",
    "\n",
    "qc_EPR.measure(qubit_Alice,cr_Alice)\n",
    "qc_EPR.measure(qubit_Bob,cr_Bob)\n",
    "\n",
    "qc_EPR.draw(output='mpl')"
   ]
  },
  {
   "cell_type": "code",
   "execution_count": 7,
   "id": "simplified-engine",
   "metadata": {},
   "outputs": [
    {
     "data": {
      "image/png": "[encoded data removed]",
      "text/plain": [
       "<Figure size 504x360 with 1 Axes>"
      ]
     },
     "execution_count": 7,
     "metadata": {},
     "output_type": "execute_result"
    }
   ],
   "source": [
    "backend = Aer.get_backend('qasm_simulator')\n",
    "counts = execute(qc_EPR,backend,shots=10000).result().get_counts()\n",
    "plot_histogram(counts)"
   ]
  },
  {
   "cell_type": "markdown",
   "id": "positive-evening",
   "metadata": {},
   "source": [
    "Con esto en mente, ahora definimos una función que realiza la medición del estado de Bell en el que están el qubit de alice y el estado que ella quiere teleportar. Para esto primero se debe pasar estos dos qubits a la base de Bell, esto se hace a través de la operación de la función anterior, de este modo las mediciones nos indican en qué estado de la base de Bell se encuentran siguiendo la siguiente correspondencia\n",
    "\n",
    "$$ |00 \\rangle\\longrightarrow |\\Phi^+\\rangle_{A'A} = \\frac{1}{\\sqrt{2}}\\left(|00 \\rangle + |11\\rangle\\right)$$\n",
    "$$ |01 \\rangle\\longrightarrow |\\Psi^+\\rangle_{A'A} = \\frac{1}{\\sqrt{2}}\\left(|01 \\rangle + |10\\rangle\\right)$$\n",
    "$$ |10 \\rangle\\longrightarrow |\\Phi^-\\rangle_{A'A} = \\frac{1}{\\sqrt{2}}\\left(|00 \\rangle - |11 \\rangle\\right)$$\n",
    "$$ |11 \\rangle\\longrightarrow |\\Psi^-\\rangle_{A'A} = \\frac{1}{\\sqrt{2}}\\left(|01 \\rangle - |10\\rangle\\right)$$\n"
   ]
  },
  {
   "cell_type": "code",
   "execution_count": 8,
   "id": "nuclear-protest",
   "metadata": {},
   "outputs": [],
   "source": [
    "def bell_measurement(circuit, q1_Alice, q2_Alice, c1_Alice, c2_Alice):\n",
    "    \n",
    "    ## Acá Alice realiza la medición del estado de Bell para esto lleva los estados a dicha base y realiza la medición\n",
    "    circuit.cx(q1_Alice, q2_Alice)\n",
    "    circuit.h(q1_Alice)\n",
    "    \n",
    "    ## Los resultados que obtenga Alice indicarán en qué estado está la partícula de Bob |s,a>\n",
    "    circuit.barrier()\n",
    "    circuit.measure(q1_Alice, c1_Alice)\n",
    "    circuit.measure(q2_Alice, c2_Alice)\n",
    "\n",
    "    return circuit"
   ]
  },
  {
   "cell_type": "markdown",
   "id": "purple-warren",
   "metadata": {},
   "source": [
    "De acuerdo con el resultado de la medición anterior, la partícula de bob va a estar en un estado definido teniendo en cuenta que \n",
    "$$|\\psi\\rangle_{A' A B} =\\frac{1}{2}{\\color{red}{|\\Phi^{+}\\rangle_{A' A}}} \\left(\\alpha|0\\rangle_{B}+\\beta|1\\rangle_{B}\\right)$$\n",
    "\n",
    "$$\\hspace{3.4em}+\\frac{1}{2}{\\color{red}{|\\Phi^{-}\\rangle_{A' A}}}\\left(\\alpha|0\\rangle_{B}-\\beta|1\\rangle_{B}\\right)$$\n",
    "\n",
    "$$\\hspace{3.4em}+\\frac{1}{2}{\\color{red}{|\\Psi^{+}\\rangle_{A'A}}}\\left(\\alpha|1\\rangle_{B}+\\beta|0\\rangle_{B}\\right)\n",
    "$$\n",
    "\n",
    "$$\\hspace{3.4em}+\\frac{1}{2}{\\color{red}{|\\Psi^{-}\\rangle_{A' A}}}\\left(\\alpha|1\\rangle_{B}-\\beta|0\\rangle_{B}\\right) $$\n",
    "\n",
    "No es inmediato pero se puede ver que, cuando el qubit $A$, que es el qubit que está entrelazado con el de bob, esta en el estado 1, entonces se debe aplicar una compuerta X sobre el estado de Bob para negr los estados. Por otra parte, cuando el qubit $A'$ está en el estado 1, toca aplicar una compuerta $Z$ que cambie la fase relativa entre los posibles estados de la partícula de Bob. Estas condiciones se pueden escribir de la forma"
   ]
  },
  {
   "cell_type": "code",
   "execution_count": 9,
   "id": "perfect-lloyd",
   "metadata": {},
   "outputs": [],
   "source": [
    "def controlled_ops_Bob_qubit(circuit, q_Bob, c1_Alice, c2_Alice):\n",
    "    \n",
    "    ## Dependiendo de los resultados recibidos en los qubits de alice, Bob realiza la operación necesaria\n",
    "    circuit.x(q_Bob).c_if(c2_Alice, 1) ## Si c2_A = 1, se aplica x\n",
    "    circuit.z(q_Bob).c_if(c1_Alice, 1) ## Si c1_A = 1, se aplica z\n",
    "    \n",
    "    return circuit"
   ]
  },
  {
   "cell_type": "markdown",
   "id": "beautiful-sheffield",
   "metadata": {},
   "source": [
    "Ahora lo ponemos todo junto y ejecutamos el protocolo, este se puede resumir en el siguiente esquema.\n",
    "\n",
    "\n"
   ]
  },
  {
   "cell_type": "code",
   "execution_count": 10,
   "id": "wicked-editor",
   "metadata": {},
   "outputs": [
    {
     "data": {
      "image/png": "[encoded data removed]",
      "text/plain": [
       "<Figure size 1002.58x385.28 with 1 Axes>"
      ]
     },
     "execution_count": 10,
     "metadata": {},
     "output_type": "execute_result"
    }
   ],
   "source": [
    "## Inicializamos todo el circuito \n",
    "qubits_Alice = QuantumRegister(2)\n",
    "qubits_Bob = QuantumRegister(1)\n",
    "cr1_Alice = ClassicalRegister(1)\n",
    "cr2_Alice = ClassicalRegister(1)\n",
    "cr_Bob = ClassicalRegister(1)\n",
    "\n",
    "## Acá ejecutamos el protocolo, primero inicializamos nuestro circuito\n",
    "qc = QuantumCircuit(qubits_Alice, qubits_Bob, cr1_Alice, cr2_Alice,cr_Bob)\n",
    "initialize_qubit(qc, 0)\n",
    "qc.barrier()\n",
    "\n",
    "## Paso 1: Entregamos a Bob y a alice un par de partículas enrtelazadas\n",
    "entangle_qubits(qc, 1, 2)\n",
    "qc.barrier()\n",
    "\n",
    "## Paso 2: Alice realiza el BSM entre su partícula y la que desea teleportar\n",
    "bell_measurement(qc, qubits_Alice[0], qubits_Alice[1], cr1_Alice, cr2_Alice)\n",
    "qc.barrier()\n",
    "\n",
    "## Paso 3: Bob aplica las compuertas necesarias para que su partícula esté en el estado deseado\n",
    "controlled_ops_Bob_qubit(qc, qubits_Bob[0], cr1_Alice, cr2_Alice)\n",
    "\n",
    "## Medimos la partícula de Bob para comprobar que la teleportacion se dio bien\n",
    "qc.measure(2,cr_Bob)\n",
    "\n",
    "## El circuito toma la forma\n",
    "qc.draw(output='mpl')"
   ]
  },
  {
   "cell_type": "code",
   "execution_count": 11,
   "id": "southern-benefit",
   "metadata": {},
   "outputs": [
    {
     "name": "stdout",
     "output_type": "stream",
     "text": [
      "{'0': 2508, '1': 7492}\n"
     ]
    },
    {
     "data": {
      "image/png": "[encoded data removed]",
      "text/plain": [
       "<Figure size 504x360 with 1 Axes>"
      ]
     },
     "execution_count": 11,
     "metadata": {},
     "output_type": "execute_result"
    }
   ],
   "source": [
    "## Simulamos el circuito\n",
    "backend = Aer.get_backend('qasm_simulator')\n",
    "counts = execute(qc,backend,shots=10000).result().get_counts()\n",
    "\n",
    "## Creamos un diccionario para almacenar los resultados del qubit de Bob\n",
    "Bob_dict = {'0' : 0, '1' : 0}\n",
    "\n",
    "## Llenamos el diccionario de los resultados del qubit de Bob\n",
    "for count in counts:\n",
    "    if (count[0] == '0'):\n",
    "        Bob_dict['0'] += counts[count]\n",
    "    elif(count[0] == '1'):\n",
    "        Bob_dict['1'] += counts[count]\n",
    "\n",
    "print(Bob_dict)\n",
    "\n",
    "## Mostramos el histograma para el qubit de Bob\n",
    "plot_histogram(Bob_dict)"
   ]
  },
  {
   "cell_type": "markdown",
   "id": "expired-taylor",
   "metadata": {},
   "source": [
    "Como se puede ver en el histograma anterior, el qubit de Bob tiene probabilidad de $25\\%$ de estar en el estado $|0\\rangle$ y probabilidad del $75\\%$ de estar en el esatdo $|1\\rangle$. Tal y como el estado inicial que queríamos teleportar, por lo cual, el protocolo se ha cumplido correctamente.\n",
    "\n",
    "Es importante notar que Alice no teleportó la partícula $A'$ como tal, lo que ella hizo fue una medición de su partícula y luego indicar a Bob que operaciones realizar sobre para que el qubit esta quedara exactamente en el estado de superposición que Alice deseaba teleportar, es decir, no se está creando una copia del estado que se deseaba teleportar, más bien se realizó una medición sobre este estado con el objetivo de reproducirlo en otro lugar."
   ]
  },
  {
   "cell_type": "markdown",
   "id": "intended-wheel",
   "metadata": {},
   "source": [
    "## Referencias\n",
    "\n",
    "* Einstein, Podolsky & Rosen. **Can Quantum-Mechanical Description of Physical Reality Be Considered Complete?**. Phys. Rev. 47, 777, 1935.\n",
    "* Nielsen & Chuang. **Quantum Computation and Quantum Information**. Cambridge University Press, 2010.\n",
    "* Bouwmeester D., Ekert A. & Zeilinger A. **The Physics of Quantum Information**. Springer-Verlag, 2001. \n",
    "* Wilde. **Quantum Information Theory**. Cambridge University Press, 2013.\n",
    "\n",
    "Muchas gracias por leer esta publicación! Abajo se encuentran links a las lecciones siguientes en el Crash Course de QC-FEM."
   ]
  },
  {
   "cell_type": "code",
   "execution_count": null,
   "id": "latest-yacht",
   "metadata": {},
   "outputs": [],
   "source": []
  }
 ],
 "metadata": {
  "kernelspec": {
   "display_name": "Python 3",
   "language": "python",
   "name": "python3"
  },
  "language_info": {
   "codemirror_mode": {
    "name": "ipython",
    "version": 3
   },
   "file_extension": ".py",
   "mimetype": "text/x-python",
   "name": "python",
   "nbconvert_exporter": "python",
   "pygments_lexer": "ipython3",
   "version": "3.8.5"
  }
 },
 "nbformat": 4,
 "nbformat_minor": 5
}
